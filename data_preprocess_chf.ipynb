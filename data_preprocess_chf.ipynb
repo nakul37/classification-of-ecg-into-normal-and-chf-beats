{
  "nbformat": 4,
  "nbformat_minor": 0,
  "metadata": {
    "colab": {
      "name": "data_preprocess_chf.ipynb",
      "provenance": []
    },
    "kernelspec": {
      "name": "python3",
      "display_name": "Python 3"
    },
    "language_info": {
      "name": "python"
    }
  },
  "cells": [
    {
      "cell_type": "code",
      "source": [
        "import pandas as pd\n",
        "import numpy as np\n",
        "import matplotlib.pyplot as plt\n",
        "from natsort import natsorted\n",
        "import glob\n",
        "from IPython.display import display\n",
        "\n"
      ],
      "metadata": {
        "id": "LCDtc5086aDt"
      },
      "execution_count": null,
      "outputs": []
    },
    {
      "cell_type": "code",
      "source": [
        "data=pd.read_csv('/content/data_BIDMC_final.csv',index_col=0)\n",
        "data.shape"
      ],
      "metadata": {
        "colab": {
          "base_uri": "https://localhost:8080/"
        },
        "id": "KyzmjKdaQiUq",
        "outputId": "9efb6820-0c4e-43fb-abdd-763ff32b57e9"
      },
      "execution_count": null,
      "outputs": [
        {
          "output_type": "execute_result",
          "data": {
            "text/plain": [
              "(8429, 200)"
            ]
          },
          "metadata": {},
          "execution_count": 7
        }
      ]
    },
    {
      "cell_type": "code",
      "source": [
        "data.insert(0,\"Label\",'1')\n",
        "#data.drop('Unnamed: 0',inplace = True, axis = 1)"
      ],
      "metadata": {
        "id": "ZT8HXsXmN69r"
      },
      "execution_count": null,
      "outputs": []
    },
    {
      "cell_type": "code",
      "source": [
        "data.columns\n",
        "data.head()"
      ],
      "metadata": {
        "colab": {
          "base_uri": "https://localhost:8080/",
          "height": 300
        },
        "id": "ricMaCLvCNWc",
        "outputId": "0673d7e2-c591-4a07-8342-c1f2a5710111"
      },
      "execution_count": null,
      "outputs": [
        {
          "output_type": "execute_result",
          "data": {
            "text/plain": [
              "  Label        c0        c1        c2        c3        c4        c5        c6  \\\n",
              "0     1  0.022046  0.017405  0.010760  0.001513 -0.007137 -0.014390 -0.019444   \n",
              "1     1 -0.099643 -0.096753 -0.095858 -0.097558 -0.104053 -0.112743 -0.122429   \n",
              "2     1 -0.059251 -0.060124 -0.057798 -0.054673 -0.051749 -0.048826 -0.049305   \n",
              "3     1 -0.086089 -0.087316 -0.090945 -0.094777 -0.099811 -0.103447 -0.106085   \n",
              "4     1 -0.082967 -0.085662 -0.087957 -0.089651 -0.092145 -0.094438 -0.097330   \n",
              "\n",
              "         c7        c8  ...      c190      c191      c192      c193      c194  \\\n",
              "0 -0.022701 -0.023760  ... -0.213495 -0.198750 -0.186799 -0.176441 -0.166878   \n",
              "1 -0.131110 -0.136586  ... -0.162969 -0.143016 -0.124065 -0.106114 -0.092165   \n",
              "2 -0.055384 -0.064865  ... -0.185259 -0.173037 -0.160016 -0.145398 -0.132182   \n",
              "3 -0.107526 -0.108768  ... -0.183298 -0.168998 -0.152698 -0.134198 -0.115898   \n",
              "4 -0.100822 -0.105714  ... -0.166520 -0.145839 -0.122554 -0.100068 -0.079179   \n",
              "\n",
              "       c195      c196      c197      c198      c199  \n",
              "0 -0.158109 -0.146933 -0.134152 -0.121165 -0.109772  \n",
              "1 -0.080216 -0.071068 -0.062921 -0.056575 -0.049030  \n",
              "2 -0.119968 -0.109757 -0.103147 -0.099740 -0.096134  \n",
              "3 -0.100398 -0.088898 -0.079198 -0.071098 -0.064598  \n",
              "4 -0.059488 -0.041994 -0.029698 -0.020599 -0.015298  \n",
              "\n",
              "[5 rows x 201 columns]"
            ],
            "text/html": [
              "\n",
              "  <div id=\"df-cf55b41f-f4bc-46cb-8369-2c8c295fcb47\">\n",
              "    <div class=\"colab-df-container\">\n",
              "      <div>\n",
              "<style scoped>\n",
              "    .dataframe tbody tr th:only-of-type {\n",
              "        vertical-align: middle;\n",
              "    }\n",
              "\n",
              "    .dataframe tbody tr th {\n",
              "        vertical-align: top;\n",
              "    }\n",
              "\n",
              "    .dataframe thead th {\n",
              "        text-align: right;\n",
              "    }\n",
              "</style>\n",
              "<table border=\"1\" class=\"dataframe\">\n",
              "  <thead>\n",
              "    <tr style=\"text-align: right;\">\n",
              "      <th></th>\n",
              "      <th>Label</th>\n",
              "      <th>c0</th>\n",
              "      <th>c1</th>\n",
              "      <th>c2</th>\n",
              "      <th>c3</th>\n",
              "      <th>c4</th>\n",
              "      <th>c5</th>\n",
              "      <th>c6</th>\n",
              "      <th>c7</th>\n",
              "      <th>c8</th>\n",
              "      <th>...</th>\n",
              "      <th>c190</th>\n",
              "      <th>c191</th>\n",
              "      <th>c192</th>\n",
              "      <th>c193</th>\n",
              "      <th>c194</th>\n",
              "      <th>c195</th>\n",
              "      <th>c196</th>\n",
              "      <th>c197</th>\n",
              "      <th>c198</th>\n",
              "      <th>c199</th>\n",
              "    </tr>\n",
              "  </thead>\n",
              "  <tbody>\n",
              "    <tr>\n",
              "      <th>0</th>\n",
              "      <td>1</td>\n",
              "      <td>0.022046</td>\n",
              "      <td>0.017405</td>\n",
              "      <td>0.010760</td>\n",
              "      <td>0.001513</td>\n",
              "      <td>-0.007137</td>\n",
              "      <td>-0.014390</td>\n",
              "      <td>-0.019444</td>\n",
              "      <td>-0.022701</td>\n",
              "      <td>-0.023760</td>\n",
              "      <td>...</td>\n",
              "      <td>-0.213495</td>\n",
              "      <td>-0.198750</td>\n",
              "      <td>-0.186799</td>\n",
              "      <td>-0.176441</td>\n",
              "      <td>-0.166878</td>\n",
              "      <td>-0.158109</td>\n",
              "      <td>-0.146933</td>\n",
              "      <td>-0.134152</td>\n",
              "      <td>-0.121165</td>\n",
              "      <td>-0.109772</td>\n",
              "    </tr>\n",
              "    <tr>\n",
              "      <th>1</th>\n",
              "      <td>1</td>\n",
              "      <td>-0.099643</td>\n",
              "      <td>-0.096753</td>\n",
              "      <td>-0.095858</td>\n",
              "      <td>-0.097558</td>\n",
              "      <td>-0.104053</td>\n",
              "      <td>-0.112743</td>\n",
              "      <td>-0.122429</td>\n",
              "      <td>-0.131110</td>\n",
              "      <td>-0.136586</td>\n",
              "      <td>...</td>\n",
              "      <td>-0.162969</td>\n",
              "      <td>-0.143016</td>\n",
              "      <td>-0.124065</td>\n",
              "      <td>-0.106114</td>\n",
              "      <td>-0.092165</td>\n",
              "      <td>-0.080216</td>\n",
              "      <td>-0.071068</td>\n",
              "      <td>-0.062921</td>\n",
              "      <td>-0.056575</td>\n",
              "      <td>-0.049030</td>\n",
              "    </tr>\n",
              "    <tr>\n",
              "      <th>2</th>\n",
              "      <td>1</td>\n",
              "      <td>-0.059251</td>\n",
              "      <td>-0.060124</td>\n",
              "      <td>-0.057798</td>\n",
              "      <td>-0.054673</td>\n",
              "      <td>-0.051749</td>\n",
              "      <td>-0.048826</td>\n",
              "      <td>-0.049305</td>\n",
              "      <td>-0.055384</td>\n",
              "      <td>-0.064865</td>\n",
              "      <td>...</td>\n",
              "      <td>-0.185259</td>\n",
              "      <td>-0.173037</td>\n",
              "      <td>-0.160016</td>\n",
              "      <td>-0.145398</td>\n",
              "      <td>-0.132182</td>\n",
              "      <td>-0.119968</td>\n",
              "      <td>-0.109757</td>\n",
              "      <td>-0.103147</td>\n",
              "      <td>-0.099740</td>\n",
              "      <td>-0.096134</td>\n",
              "    </tr>\n",
              "    <tr>\n",
              "      <th>3</th>\n",
              "      <td>1</td>\n",
              "      <td>-0.086089</td>\n",
              "      <td>-0.087316</td>\n",
              "      <td>-0.090945</td>\n",
              "      <td>-0.094777</td>\n",
              "      <td>-0.099811</td>\n",
              "      <td>-0.103447</td>\n",
              "      <td>-0.106085</td>\n",
              "      <td>-0.107526</td>\n",
              "      <td>-0.108768</td>\n",
              "      <td>...</td>\n",
              "      <td>-0.183298</td>\n",
              "      <td>-0.168998</td>\n",
              "      <td>-0.152698</td>\n",
              "      <td>-0.134198</td>\n",
              "      <td>-0.115898</td>\n",
              "      <td>-0.100398</td>\n",
              "      <td>-0.088898</td>\n",
              "      <td>-0.079198</td>\n",
              "      <td>-0.071098</td>\n",
              "      <td>-0.064598</td>\n",
              "    </tr>\n",
              "    <tr>\n",
              "      <th>4</th>\n",
              "      <td>1</td>\n",
              "      <td>-0.082967</td>\n",
              "      <td>-0.085662</td>\n",
              "      <td>-0.087957</td>\n",
              "      <td>-0.089651</td>\n",
              "      <td>-0.092145</td>\n",
              "      <td>-0.094438</td>\n",
              "      <td>-0.097330</td>\n",
              "      <td>-0.100822</td>\n",
              "      <td>-0.105714</td>\n",
              "      <td>...</td>\n",
              "      <td>-0.166520</td>\n",
              "      <td>-0.145839</td>\n",
              "      <td>-0.122554</td>\n",
              "      <td>-0.100068</td>\n",
              "      <td>-0.079179</td>\n",
              "      <td>-0.059488</td>\n",
              "      <td>-0.041994</td>\n",
              "      <td>-0.029698</td>\n",
              "      <td>-0.020599</td>\n",
              "      <td>-0.015298</td>\n",
              "    </tr>\n",
              "  </tbody>\n",
              "</table>\n",
              "<p>5 rows × 201 columns</p>\n",
              "</div>\n",
              "      <button class=\"colab-df-convert\" onclick=\"convertToInteractive('df-cf55b41f-f4bc-46cb-8369-2c8c295fcb47')\"\n",
              "              title=\"Convert this dataframe to an interactive table.\"\n",
              "              style=\"display:none;\">\n",
              "        \n",
              "  <svg xmlns=\"http://www.w3.org/2000/svg\" height=\"24px\"viewBox=\"0 0 24 24\"\n",
              "       width=\"24px\">\n",
              "    <path d=\"M0 0h24v24H0V0z\" fill=\"none\"/>\n",
              "    <path d=\"M18.56 5.44l.94 2.06.94-2.06 2.06-.94-2.06-.94-.94-2.06-.94 2.06-2.06.94zm-11 1L8.5 8.5l.94-2.06 2.06-.94-2.06-.94L8.5 2.5l-.94 2.06-2.06.94zm10 10l.94 2.06.94-2.06 2.06-.94-2.06-.94-.94-2.06-.94 2.06-2.06.94z\"/><path d=\"M17.41 7.96l-1.37-1.37c-.4-.4-.92-.59-1.43-.59-.52 0-1.04.2-1.43.59L10.3 9.45l-7.72 7.72c-.78.78-.78 2.05 0 2.83L4 21.41c.39.39.9.59 1.41.59.51 0 1.02-.2 1.41-.59l7.78-7.78 2.81-2.81c.8-.78.8-2.07 0-2.86zM5.41 20L4 18.59l7.72-7.72 1.47 1.35L5.41 20z\"/>\n",
              "  </svg>\n",
              "      </button>\n",
              "      \n",
              "  <style>\n",
              "    .colab-df-container {\n",
              "      display:flex;\n",
              "      flex-wrap:wrap;\n",
              "      gap: 12px;\n",
              "    }\n",
              "\n",
              "    .colab-df-convert {\n",
              "      background-color: #E8F0FE;\n",
              "      border: none;\n",
              "      border-radius: 50%;\n",
              "      cursor: pointer;\n",
              "      display: none;\n",
              "      fill: #1967D2;\n",
              "      height: 32px;\n",
              "      padding: 0 0 0 0;\n",
              "      width: 32px;\n",
              "    }\n",
              "\n",
              "    .colab-df-convert:hover {\n",
              "      background-color: #E2EBFA;\n",
              "      box-shadow: 0px 1px 2px rgba(60, 64, 67, 0.3), 0px 1px 3px 1px rgba(60, 64, 67, 0.15);\n",
              "      fill: #174EA6;\n",
              "    }\n",
              "\n",
              "    [theme=dark] .colab-df-convert {\n",
              "      background-color: #3B4455;\n",
              "      fill: #D2E3FC;\n",
              "    }\n",
              "\n",
              "    [theme=dark] .colab-df-convert:hover {\n",
              "      background-color: #434B5C;\n",
              "      box-shadow: 0px 1px 3px 1px rgba(0, 0, 0, 0.15);\n",
              "      filter: drop-shadow(0px 1px 2px rgba(0, 0, 0, 0.3));\n",
              "      fill: #FFFFFF;\n",
              "    }\n",
              "  </style>\n",
              "\n",
              "      <script>\n",
              "        const buttonEl =\n",
              "          document.querySelector('#df-cf55b41f-f4bc-46cb-8369-2c8c295fcb47 button.colab-df-convert');\n",
              "        buttonEl.style.display =\n",
              "          google.colab.kernel.accessAllowed ? 'block' : 'none';\n",
              "\n",
              "        async function convertToInteractive(key) {\n",
              "          const element = document.querySelector('#df-cf55b41f-f4bc-46cb-8369-2c8c295fcb47');\n",
              "          const dataTable =\n",
              "            await google.colab.kernel.invokeFunction('convertToInteractive',\n",
              "                                                     [key], {});\n",
              "          if (!dataTable) return;\n",
              "\n",
              "          const docLinkHtml = 'Like what you see? Visit the ' +\n",
              "            '<a target=\"_blank\" href=https://colab.research.google.com/notebooks/data_table.ipynb>data table notebook</a>'\n",
              "            + ' to learn more about interactive tables.';\n",
              "          element.innerHTML = '';\n",
              "          dataTable['output_type'] = 'display_data';\n",
              "          await google.colab.output.renderOutput(dataTable, element);\n",
              "          const docLink = document.createElement('div');\n",
              "          docLink.innerHTML = docLinkHtml;\n",
              "          element.appendChild(docLink);\n",
              "        }\n",
              "      </script>\n",
              "    </div>\n",
              "  </div>\n",
              "  "
            ]
          },
          "metadata": {},
          "execution_count": 9
        }
      ]
    },
    {
      "cell_type": "code",
      "source": [
        "data_=pd.DataFrame(data)\n",
        "data_.to_csv('data_chf_BIDMC.csv')\n",
        "data_.shape"
      ],
      "metadata": {
        "colab": {
          "base_uri": "https://localhost:8080/"
        },
        "id": "FuXK_BkTTJz7",
        "outputId": "81a30400-b904-4680-85a6-235d9a14e197"
      },
      "execution_count": null,
      "outputs": [
        {
          "output_type": "execute_result",
          "data": {
            "text/plain": [
              "(8429, 201)"
            ]
          },
          "metadata": {},
          "execution_count": 14
        }
      ]
    },
    {
      "cell_type": "code",
      "source": [
        "data1=pd.read_csv('/content/data_MITBH_Normal.csv',index_col=0)\n",
        "data1.shape"
      ],
      "metadata": {
        "colab": {
          "base_uri": "https://localhost:8080/"
        },
        "id": "5c-WNFlsRzAY",
        "outputId": "51e4f734-a7b5-4f47-d40e-1c1136453343"
      },
      "execution_count": null,
      "outputs": [
        {
          "output_type": "execute_result",
          "data": {
            "text/plain": [
              "(8454, 200)"
            ]
          },
          "metadata": {},
          "execution_count": 10
        }
      ]
    },
    {
      "cell_type": "code",
      "source": [
        "data1.insert(0,\"Label\",'0')"
      ],
      "metadata": {
        "id": "RuwT7ql9SqBv"
      },
      "execution_count": null,
      "outputs": []
    },
    {
      "cell_type": "code",
      "source": [
        "data1.columns\n",
        "data1.head()"
      ],
      "metadata": {
        "colab": {
          "base_uri": "https://localhost:8080/",
          "height": 236
        },
        "id": "ByKfraTRRys6",
        "outputId": "48f1f6dd-dcf3-439e-c0db-1d75c26b9b81"
      },
      "execution_count": null,
      "outputs": [
        {
          "output_type": "execute_result",
          "data": {
            "text/plain": [
              "  Label   c0   c1   c2   c3   c4   c5   c6   c7   c8  ...  c190  c191  c192  \\\n",
              "0     0  0.0  0.0  0.0  0.0  0.0  0.0  0.0  0.0  0.0  ...   0.0   0.0   0.0   \n",
              "1     0  0.0  0.0  0.0  0.0  0.0  0.0  0.0  0.0  0.0  ...   0.0   0.0   0.0   \n",
              "2     0  0.0  0.0  0.0  0.0  0.0  0.0  0.0  0.0  0.0  ...   0.0   0.0   0.0   \n",
              "3     0  0.0  0.0  0.0  0.0  0.0  0.0  0.0  0.0  0.0  ...   0.0   0.0   0.0   \n",
              "4     0  0.0  0.0  0.0  0.0  0.0  0.0  0.0  0.0  0.0  ...   0.0   0.0   0.0   \n",
              "\n",
              "   c193  c194  c195  c196  c197  c198  c199  \n",
              "0   0.0   0.0   0.0   0.0   0.0   0.0   0.0  \n",
              "1   0.0   0.0   0.0   0.0   0.0   0.0   0.0  \n",
              "2   0.0   0.0   0.0   0.0   0.0   0.0   0.0  \n",
              "3   0.0   0.0   0.0   0.0   0.0   0.0   0.0  \n",
              "4   0.0   0.0   0.0   0.0   0.0   0.0   0.0  \n",
              "\n",
              "[5 rows x 201 columns]"
            ],
            "text/html": [
              "\n",
              "  <div id=\"df-83ebd362-e4c1-40a2-aae2-a10d7801ac50\">\n",
              "    <div class=\"colab-df-container\">\n",
              "      <div>\n",
              "<style scoped>\n",
              "    .dataframe tbody tr th:only-of-type {\n",
              "        vertical-align: middle;\n",
              "    }\n",
              "\n",
              "    .dataframe tbody tr th {\n",
              "        vertical-align: top;\n",
              "    }\n",
              "\n",
              "    .dataframe thead th {\n",
              "        text-align: right;\n",
              "    }\n",
              "</style>\n",
              "<table border=\"1\" class=\"dataframe\">\n",
              "  <thead>\n",
              "    <tr style=\"text-align: right;\">\n",
              "      <th></th>\n",
              "      <th>Label</th>\n",
              "      <th>c0</th>\n",
              "      <th>c1</th>\n",
              "      <th>c2</th>\n",
              "      <th>c3</th>\n",
              "      <th>c4</th>\n",
              "      <th>c5</th>\n",
              "      <th>c6</th>\n",
              "      <th>c7</th>\n",
              "      <th>c8</th>\n",
              "      <th>...</th>\n",
              "      <th>c190</th>\n",
              "      <th>c191</th>\n",
              "      <th>c192</th>\n",
              "      <th>c193</th>\n",
              "      <th>c194</th>\n",
              "      <th>c195</th>\n",
              "      <th>c196</th>\n",
              "      <th>c197</th>\n",
              "      <th>c198</th>\n",
              "      <th>c199</th>\n",
              "    </tr>\n",
              "  </thead>\n",
              "  <tbody>\n",
              "    <tr>\n",
              "      <th>0</th>\n",
              "      <td>0</td>\n",
              "      <td>0.0</td>\n",
              "      <td>0.0</td>\n",
              "      <td>0.0</td>\n",
              "      <td>0.0</td>\n",
              "      <td>0.0</td>\n",
              "      <td>0.0</td>\n",
              "      <td>0.0</td>\n",
              "      <td>0.0</td>\n",
              "      <td>0.0</td>\n",
              "      <td>...</td>\n",
              "      <td>0.0</td>\n",
              "      <td>0.0</td>\n",
              "      <td>0.0</td>\n",
              "      <td>0.0</td>\n",
              "      <td>0.0</td>\n",
              "      <td>0.0</td>\n",
              "      <td>0.0</td>\n",
              "      <td>0.0</td>\n",
              "      <td>0.0</td>\n",
              "      <td>0.0</td>\n",
              "    </tr>\n",
              "    <tr>\n",
              "      <th>1</th>\n",
              "      <td>0</td>\n",
              "      <td>0.0</td>\n",
              "      <td>0.0</td>\n",
              "      <td>0.0</td>\n",
              "      <td>0.0</td>\n",
              "      <td>0.0</td>\n",
              "      <td>0.0</td>\n",
              "      <td>0.0</td>\n",
              "      <td>0.0</td>\n",
              "      <td>0.0</td>\n",
              "      <td>...</td>\n",
              "      <td>0.0</td>\n",
              "      <td>0.0</td>\n",
              "      <td>0.0</td>\n",
              "      <td>0.0</td>\n",
              "      <td>0.0</td>\n",
              "      <td>0.0</td>\n",
              "      <td>0.0</td>\n",
              "      <td>0.0</td>\n",
              "      <td>0.0</td>\n",
              "      <td>0.0</td>\n",
              "    </tr>\n",
              "    <tr>\n",
              "      <th>2</th>\n",
              "      <td>0</td>\n",
              "      <td>0.0</td>\n",
              "      <td>0.0</td>\n",
              "      <td>0.0</td>\n",
              "      <td>0.0</td>\n",
              "      <td>0.0</td>\n",
              "      <td>0.0</td>\n",
              "      <td>0.0</td>\n",
              "      <td>0.0</td>\n",
              "      <td>0.0</td>\n",
              "      <td>...</td>\n",
              "      <td>0.0</td>\n",
              "      <td>0.0</td>\n",
              "      <td>0.0</td>\n",
              "      <td>0.0</td>\n",
              "      <td>0.0</td>\n",
              "      <td>0.0</td>\n",
              "      <td>0.0</td>\n",
              "      <td>0.0</td>\n",
              "      <td>0.0</td>\n",
              "      <td>0.0</td>\n",
              "    </tr>\n",
              "    <tr>\n",
              "      <th>3</th>\n",
              "      <td>0</td>\n",
              "      <td>0.0</td>\n",
              "      <td>0.0</td>\n",
              "      <td>0.0</td>\n",
              "      <td>0.0</td>\n",
              "      <td>0.0</td>\n",
              "      <td>0.0</td>\n",
              "      <td>0.0</td>\n",
              "      <td>0.0</td>\n",
              "      <td>0.0</td>\n",
              "      <td>...</td>\n",
              "      <td>0.0</td>\n",
              "      <td>0.0</td>\n",
              "      <td>0.0</td>\n",
              "      <td>0.0</td>\n",
              "      <td>0.0</td>\n",
              "      <td>0.0</td>\n",
              "      <td>0.0</td>\n",
              "      <td>0.0</td>\n",
              "      <td>0.0</td>\n",
              "      <td>0.0</td>\n",
              "    </tr>\n",
              "    <tr>\n",
              "      <th>4</th>\n",
              "      <td>0</td>\n",
              "      <td>0.0</td>\n",
              "      <td>0.0</td>\n",
              "      <td>0.0</td>\n",
              "      <td>0.0</td>\n",
              "      <td>0.0</td>\n",
              "      <td>0.0</td>\n",
              "      <td>0.0</td>\n",
              "      <td>0.0</td>\n",
              "      <td>0.0</td>\n",
              "      <td>...</td>\n",
              "      <td>0.0</td>\n",
              "      <td>0.0</td>\n",
              "      <td>0.0</td>\n",
              "      <td>0.0</td>\n",
              "      <td>0.0</td>\n",
              "      <td>0.0</td>\n",
              "      <td>0.0</td>\n",
              "      <td>0.0</td>\n",
              "      <td>0.0</td>\n",
              "      <td>0.0</td>\n",
              "    </tr>\n",
              "  </tbody>\n",
              "</table>\n",
              "<p>5 rows × 201 columns</p>\n",
              "</div>\n",
              "      <button class=\"colab-df-convert\" onclick=\"convertToInteractive('df-83ebd362-e4c1-40a2-aae2-a10d7801ac50')\"\n",
              "              title=\"Convert this dataframe to an interactive table.\"\n",
              "              style=\"display:none;\">\n",
              "        \n",
              "  <svg xmlns=\"http://www.w3.org/2000/svg\" height=\"24px\"viewBox=\"0 0 24 24\"\n",
              "       width=\"24px\">\n",
              "    <path d=\"M0 0h24v24H0V0z\" fill=\"none\"/>\n",
              "    <path d=\"M18.56 5.44l.94 2.06.94-2.06 2.06-.94-2.06-.94-.94-2.06-.94 2.06-2.06.94zm-11 1L8.5 8.5l.94-2.06 2.06-.94-2.06-.94L8.5 2.5l-.94 2.06-2.06.94zm10 10l.94 2.06.94-2.06 2.06-.94-2.06-.94-.94-2.06-.94 2.06-2.06.94z\"/><path d=\"M17.41 7.96l-1.37-1.37c-.4-.4-.92-.59-1.43-.59-.52 0-1.04.2-1.43.59L10.3 9.45l-7.72 7.72c-.78.78-.78 2.05 0 2.83L4 21.41c.39.39.9.59 1.41.59.51 0 1.02-.2 1.41-.59l7.78-7.78 2.81-2.81c.8-.78.8-2.07 0-2.86zM5.41 20L4 18.59l7.72-7.72 1.47 1.35L5.41 20z\"/>\n",
              "  </svg>\n",
              "      </button>\n",
              "      \n",
              "  <style>\n",
              "    .colab-df-container {\n",
              "      display:flex;\n",
              "      flex-wrap:wrap;\n",
              "      gap: 12px;\n",
              "    }\n",
              "\n",
              "    .colab-df-convert {\n",
              "      background-color: #E8F0FE;\n",
              "      border: none;\n",
              "      border-radius: 50%;\n",
              "      cursor: pointer;\n",
              "      display: none;\n",
              "      fill: #1967D2;\n",
              "      height: 32px;\n",
              "      padding: 0 0 0 0;\n",
              "      width: 32px;\n",
              "    }\n",
              "\n",
              "    .colab-df-convert:hover {\n",
              "      background-color: #E2EBFA;\n",
              "      box-shadow: 0px 1px 2px rgba(60, 64, 67, 0.3), 0px 1px 3px 1px rgba(60, 64, 67, 0.15);\n",
              "      fill: #174EA6;\n",
              "    }\n",
              "\n",
              "    [theme=dark] .colab-df-convert {\n",
              "      background-color: #3B4455;\n",
              "      fill: #D2E3FC;\n",
              "    }\n",
              "\n",
              "    [theme=dark] .colab-df-convert:hover {\n",
              "      background-color: #434B5C;\n",
              "      box-shadow: 0px 1px 3px 1px rgba(0, 0, 0, 0.15);\n",
              "      filter: drop-shadow(0px 1px 2px rgba(0, 0, 0, 0.3));\n",
              "      fill: #FFFFFF;\n",
              "    }\n",
              "  </style>\n",
              "\n",
              "      <script>\n",
              "        const buttonEl =\n",
              "          document.querySelector('#df-83ebd362-e4c1-40a2-aae2-a10d7801ac50 button.colab-df-convert');\n",
              "        buttonEl.style.display =\n",
              "          google.colab.kernel.accessAllowed ? 'block' : 'none';\n",
              "\n",
              "        async function convertToInteractive(key) {\n",
              "          const element = document.querySelector('#df-83ebd362-e4c1-40a2-aae2-a10d7801ac50');\n",
              "          const dataTable =\n",
              "            await google.colab.kernel.invokeFunction('convertToInteractive',\n",
              "                                                     [key], {});\n",
              "          if (!dataTable) return;\n",
              "\n",
              "          const docLinkHtml = 'Like what you see? Visit the ' +\n",
              "            '<a target=\"_blank\" href=https://colab.research.google.com/notebooks/data_table.ipynb>data table notebook</a>'\n",
              "            + ' to learn more about interactive tables.';\n",
              "          element.innerHTML = '';\n",
              "          dataTable['output_type'] = 'display_data';\n",
              "          await google.colab.output.renderOutput(dataTable, element);\n",
              "          const docLink = document.createElement('div');\n",
              "          docLink.innerHTML = docLinkHtml;\n",
              "          element.appendChild(docLink);\n",
              "        }\n",
              "      </script>\n",
              "    </div>\n",
              "  </div>\n",
              "  "
            ]
          },
          "metadata": {},
          "execution_count": 13
        }
      ]
    },
    {
      "cell_type": "code",
      "source": [
        "data2=pd.DataFrame(data1)\n",
        "data2.to_csv('data_normal_MITBH.csv')\n",
        "data2.shape"
      ],
      "metadata": {
        "colab": {
          "base_uri": "https://localhost:8080/"
        },
        "id": "I1TYa6A3S0pi",
        "outputId": "89494a66-3324-42cb-d640-2a4628b2dae9"
      },
      "execution_count": null,
      "outputs": [
        {
          "output_type": "execute_result",
          "data": {
            "text/plain": [
              "(8454, 201)"
            ]
          },
          "metadata": {},
          "execution_count": 15
        }
      ]
    },
    {
      "cell_type": "code",
      "source": [
        "files=natsorted(glob.glob('data_*'))"
      ],
      "metadata": {
        "id": "Glr3O3UzQ2dk"
      },
      "execution_count": null,
      "outputs": []
    },
    {
      "cell_type": "code",
      "source": [
        "files"
      ],
      "metadata": {
        "colab": {
          "base_uri": "https://localhost:8080/"
        },
        "id": "46OUwoqGQ2ZD",
        "outputId": "bebe8765-1934-4899-8545-682669896fa9"
      },
      "execution_count": null,
      "outputs": [
        {
          "output_type": "execute_result",
          "data": {
            "text/plain": [
              "['data_chf_BIDMC.csv', 'data_normal_MITBH.csv']"
            ]
          },
          "metadata": {},
          "execution_count": 17
        }
      ]
    },
    {
      "cell_type": "code",
      "source": [
        "data3=pd.concat((pd.read_csv(file) for file in files), ignore_index=True)\n",
        "data3.shape"
      ],
      "metadata": {
        "id": "lfUE53IgUwmU",
        "colab": {
          "base_uri": "https://localhost:8080/"
        },
        "outputId": "e2d30f58-eadc-43eb-a526-95fa22f90dee"
      },
      "execution_count": null,
      "outputs": [
        {
          "output_type": "execute_result",
          "data": {
            "text/plain": [
              "(16883, 202)"
            ]
          },
          "metadata": {},
          "execution_count": 18
        }
      ]
    },
    {
      "cell_type": "code",
      "source": [
        "data3.columns\n"
      ],
      "metadata": {
        "colab": {
          "base_uri": "https://localhost:8080/"
        },
        "id": "W-vivW5wU8r0",
        "outputId": "0559bb66-f10e-4ed8-8772-05a82b189a32"
      },
      "execution_count": null,
      "outputs": [
        {
          "output_type": "execute_result",
          "data": {
            "text/plain": [
              "Index(['Unnamed: 0', 'Label', 'c0', 'c1', 'c2', 'c3', 'c4', 'c5', 'c6', 'c7',\n",
              "       ...\n",
              "       'c190', 'c191', 'c192', 'c193', 'c194', 'c195', 'c196', 'c197', 'c198',\n",
              "       'c199'],\n",
              "      dtype='object', length=202)"
            ]
          },
          "metadata": {},
          "execution_count": 19
        }
      ]
    },
    {
      "cell_type": "code",
      "source": [
        "data3.drop('Unnamed: 0',inplace = True, axis = 1)"
      ],
      "metadata": {
        "id": "AfTpMnkyVAHQ"
      },
      "execution_count": null,
      "outputs": []
    },
    {
      "cell_type": "code",
      "source": [
        "data3.shape"
      ],
      "metadata": {
        "colab": {
          "base_uri": "https://localhost:8080/"
        },
        "id": "kWKNVK_rVKgY",
        "outputId": "c781654d-cfff-4413-b11b-4c563f9c8f51"
      },
      "execution_count": null,
      "outputs": [
        {
          "output_type": "execute_result",
          "data": {
            "text/plain": [
              "(16883, 201)"
            ]
          },
          "metadata": {},
          "execution_count": 21
        }
      ]
    },
    {
      "cell_type": "code",
      "source": [
        "data4=pd.DataFrame(data3)\n",
        "data4.to_csv('data_MITBH_BIDMC.csv')\n",
        "data4.shape"
      ],
      "metadata": {
        "colab": {
          "base_uri": "https://localhost:8080/"
        },
        "id": "X8BDK3NuUm_c",
        "outputId": "ff225585-aa6b-4eb8-ea9f-bbe3dc46763b"
      },
      "execution_count": null,
      "outputs": [
        {
          "output_type": "execute_result",
          "data": {
            "text/plain": [
              "(16883, 201)"
            ]
          },
          "metadata": {},
          "execution_count": 22
        }
      ]
    }
  ]
}