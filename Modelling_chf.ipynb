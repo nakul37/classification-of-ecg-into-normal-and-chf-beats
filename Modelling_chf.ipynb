{
  "nbformat": 4,
  "nbformat_minor": 0,
  "metadata": {
    "colab": {
      "name": "Modelling_chf.ipynb",
      "provenance": []
    },
    "kernelspec": {
      "name": "python3",
      "display_name": "Python 3"
    },
    "language_info": {
      "name": "python"
    }
  },
  "cells": [
    {
      "cell_type": "code",
      "execution_count": null,
      "metadata": {
        "id": "_WyeEtZg61sd"
      },
      "outputs": [],
      "source": [
        "import pandas as pd\n",
        "import numpy as np\n",
        "import matplotlib.pyplot as plt\n",
        "import matplotlib.image as mpimg\n",
        "import seaborn as sns\n",
        "%matplotlib inline\n",
        "\n",
        "\n",
        "from sklearn.model_selection import train_test_split\n",
        "from sklearn.metrics import confusion_matrix\n",
        "import itertools\n",
        "\n",
        "from keras.utils.np_utils import to_categorical \n",
        "from keras.models import Sequential\n",
        "from keras.layers import Dense, Dropout, Flatten, Conv1D, MaxPool1D\n",
        "from keras.preprocessing.image import ImageDataGenerator, array_to_img, img_to_array, load_img\n",
        "from keras.callbacks import ReduceLROnPlateau\n",
        "from tensorflow.keras.optimizers import RMSprop\n",
        "from sklearn.metrics import classification_report"
      ]
    },
    {
      "cell_type": "code",
      "source": [
        "data_taken = pd.read_csv(\"/content/drive/MyDrive/Intern/dataset_fixed length_200/data_MITBH_BIDMC.csv\",index_col=0)\n",
        "#data_taken=data_taken.fillna(0)\n",
        "print(data_taken.head())\n",
        "data_taken.shape"
      ],
      "metadata": {
        "colab": {
          "base_uri": "https://localhost:8080/"
        },
        "id": "cyX67O5X-LYI",
        "outputId": "15f7418c-608d-4332-b55b-9ea6890839e4"
      },
      "execution_count": null,
      "outputs": [
        {
          "output_type": "stream",
          "name": "stdout",
          "text": [
            "   Label        c0        c1        c2        c3        c4        c5  \\\n",
            "0      1  0.022046  0.017405  0.010760  0.001513 -0.007137 -0.014390   \n",
            "1      1 -0.099643 -0.096753 -0.095858 -0.097558 -0.104053 -0.112743   \n",
            "2      1 -0.059251 -0.060124 -0.057798 -0.054673 -0.051749 -0.048826   \n",
            "3      1 -0.086089 -0.087316 -0.090945 -0.094777 -0.099811 -0.103447   \n",
            "4      1 -0.082967 -0.085662 -0.087957 -0.089651 -0.092145 -0.094438   \n",
            "\n",
            "         c6        c7        c8  ...      c190      c191      c192      c193  \\\n",
            "0 -0.019444 -0.022701 -0.023760  ... -0.213495 -0.198750 -0.186799 -0.176441   \n",
            "1 -0.122429 -0.131110 -0.136586  ... -0.162969 -0.143016 -0.124065 -0.106114   \n",
            "2 -0.049305 -0.055384 -0.064865  ... -0.185259 -0.173037 -0.160016 -0.145398   \n",
            "3 -0.106085 -0.107526 -0.108768  ... -0.183298 -0.168998 -0.152698 -0.134198   \n",
            "4 -0.097330 -0.100822 -0.105714  ... -0.166520 -0.145839 -0.122554 -0.100068   \n",
            "\n",
            "       c194      c195      c196      c197      c198      c199  \n",
            "0 -0.166878 -0.158109 -0.146933 -0.134152 -0.121165 -0.109772  \n",
            "1 -0.092165 -0.080216 -0.071068 -0.062921 -0.056575 -0.049030  \n",
            "2 -0.132182 -0.119968 -0.109757 -0.103147 -0.099740 -0.096134  \n",
            "3 -0.115898 -0.100398 -0.088898 -0.079198 -0.071098 -0.064598  \n",
            "4 -0.079179 -0.059488 -0.041994 -0.029698 -0.020599 -0.015298  \n",
            "\n",
            "[5 rows x 201 columns]\n"
          ]
        },
        {
          "output_type": "execute_result",
          "data": {
            "text/plain": [
              "(16883, 201)"
            ]
          },
          "metadata": {},
          "execution_count": 63
        }
      ]
    },
    {
      "cell_type": "code",
      "source": [
        "y = data_taken.Label\n",
        "X = data_taken.drop('Label', axis=1)\n",
        "g = sns.countplot(y)\n",
        "y.value_counts()"
      ],
      "metadata": {
        "colab": {
          "base_uri": "https://localhost:8080/",
          "height": 386
        },
        "id": "Q10v5f_O-sFU",
        "outputId": "86979a22-02eb-4b94-d288-d72ecf7be5bd"
      },
      "execution_count": null,
      "outputs": [
        {
          "output_type": "stream",
          "name": "stderr",
          "text": [
            "/usr/local/lib/python3.7/dist-packages/seaborn/_decorators.py:43: FutureWarning: Pass the following variable as a keyword arg: x. From version 0.12, the only valid positional argument will be `data`, and passing other arguments without an explicit keyword will result in an error or misinterpretation.\n",
            "  FutureWarning\n"
          ]
        },
        {
          "output_type": "execute_result",
          "data": {
            "text/plain": [
              "0    8454\n",
              "1    8429\n",
              "Name: Label, dtype: int64"
            ]
          },
          "metadata": {},
          "execution_count": 64
        },
        {
          "output_type": "display_data",
          "data": {
            "text/plain": [
              "<Figure size 432x288 with 1 Axes>"
            ],
            "image/png": "[encoded data removed]"
          },
          "metadata": {
            "needs_background": "light"
          }
        }
      ]
    },
    {
      "cell_type": "code",
      "source": [
        "y"
      ],
      "metadata": {
        "colab": {
          "base_uri": "https://localhost:8080/"
        },
        "id": "bx2uE5eM--Km",
        "outputId": "a490a0ec-1d5d-4f7f-bb50-f3c3b2520631"
      },
      "execution_count": null,
      "outputs": [
        {
          "output_type": "execute_result",
          "data": {
            "text/plain": [
              "0        1\n",
              "1        1\n",
              "2        1\n",
              "3        1\n",
              "4        1\n",
              "        ..\n",
              "16878    0\n",
              "16879    0\n",
              "16880    0\n",
              "16881    0\n",
              "16882    0\n",
              "Name: Label, Length: 16883, dtype: int64"
            ]
          },
          "metadata": {},
          "execution_count": 65
        }
      ]
    },
    {
      "cell_type": "code",
      "source": [
        "X"
      ],
      "metadata": {
        "colab": {
          "base_uri": "https://localhost:8080/",
          "height": 488
        },
        "id": "EFRBsQtn--Hi",
        "outputId": "c94aaf2e-a7b4-4420-d32f-a91cd6630b75"
      },
      "execution_count": null,
      "outputs": [
        {
          "output_type": "execute_result",
          "data": {
            "text/plain": [
              "             c0        c1        c2        c3        c4        c5        c6  \\\n",
              "0      0.022046  0.017405  0.010760  0.001513 -0.007137 -0.014390 -0.019444   \n",
              "1     -0.099643 -0.096753 -0.095858 -0.097558 -0.104053 -0.112743 -0.122429   \n",
              "2     -0.059251 -0.060124 -0.057798 -0.054673 -0.051749 -0.048826 -0.049305   \n",
              "3     -0.086089 -0.087316 -0.090945 -0.094777 -0.099811 -0.103447 -0.106085   \n",
              "4     -0.082967 -0.085662 -0.087957 -0.089651 -0.092145 -0.094438 -0.097330   \n",
              "...         ...       ...       ...       ...       ...       ...       ...   \n",
              "16878  0.000000  0.000000  0.000000  0.000000  0.000000  0.000000  0.000000   \n",
              "16879  0.000000  0.000000  0.000000  0.000000  0.000000  0.000000  0.000000   \n",
              "16880  0.000000  0.000000  0.000000  0.000000  0.000000  0.000000  0.000000   \n",
              "16881  0.000000  0.000000  0.000000  0.000000  0.000000  0.000000  0.000000   \n",
              "16882  0.000000  0.000000  0.000000  0.000000  0.000000  0.000000  0.000000   \n",
              "\n",
              "             c7        c8        c9  ...      c190      c191      c192  \\\n",
              "0     -0.022701 -0.023760 -0.025621  ... -0.213495 -0.198750 -0.186799   \n",
              "1     -0.131110 -0.136586 -0.138057  ... -0.162969 -0.143016 -0.124065   \n",
              "2     -0.055384 -0.064865 -0.075147  ... -0.185259 -0.173037 -0.160016   \n",
              "3     -0.107526 -0.108768 -0.109413  ... -0.183298 -0.168998 -0.152698   \n",
              "4     -0.100822 -0.105714 -0.110404  ... -0.166520 -0.145839 -0.122554   \n",
              "...         ...       ...       ...  ...       ...       ...       ...   \n",
              "16878  0.000000  0.000000  0.000000  ...  0.000000  0.000000  0.000000   \n",
              "16879  0.000000  0.000000  0.000000  ...  0.000000  0.000000  0.000000   \n",
              "16880  0.000000  0.000000  0.000000  ...  0.000000  0.000000  0.000000   \n",
              "16881  0.000000  0.000000  0.000000  ...  0.000000  0.000000  0.000000   \n",
              "16882  0.000000  0.000000  0.000000  ...  0.000000  0.000000  0.000000   \n",
              "\n",
              "           c193      c194      c195      c196      c197      c198      c199  \n",
              "0     -0.176441 -0.166878 -0.158109 -0.146933 -0.134152 -0.121165 -0.109772  \n",
              "1     -0.106114 -0.092165 -0.080216 -0.071068 -0.062921 -0.056575 -0.049030  \n",
              "2     -0.145398 -0.132182 -0.119968 -0.109757 -0.103147 -0.099740 -0.096134  \n",
              "3     -0.134198 -0.115898 -0.100398 -0.088898 -0.079198 -0.071098 -0.064598  \n",
              "4     -0.100068 -0.079179 -0.059488 -0.041994 -0.029698 -0.020599 -0.015298  \n",
              "...         ...       ...       ...       ...       ...       ...       ...  \n",
              "16878  0.000000  0.000000  0.000000  0.000000  0.000000  0.000000  0.000000  \n",
              "16879  0.000000  0.000000  0.000000  0.000000  0.000000  0.000000  0.000000  \n",
              "16880  0.000000  0.000000  0.000000  0.000000  0.000000  0.000000  0.000000  \n",
              "16881  0.000000  0.000000  0.000000  0.000000  0.000000  0.000000  0.000000  \n",
              "16882  0.000000  0.000000  0.000000  0.000000  0.000000  0.000000  0.000000  \n",
              "\n",
              "[16883 rows x 200 columns]"
            ],
            "text/html": [
              "\n",
              "  <div id=\"df-a24f7cc8-0437-4f06-abbd-c96aca601dd7\">\n",
              "    <div class=\"colab-df-container\">\n",
              "      <div>\n",
              "<style scoped>\n",
              "    .dataframe tbody tr th:only-of-type {\n",
              "        vertical-align: middle;\n",
              "    }\n",
              "\n",
              "    .dataframe tbody tr th {\n",
              "        vertical-align: top;\n",
              "    }\n",
              "\n",
              "    .dataframe thead th {\n",
              "        text-align: right;\n",
              "    }\n",
              "</style>\n",
              "<table border=\"1\" class=\"dataframe\">\n",
              "  <thead>\n",
              "    <tr style=\"text-align: right;\">\n",
              "      <th></th>\n",
              "      <th>c0</th>\n",
              "      <th>c1</th>\n",
              "      <th>c2</th>\n",
              "      <th>c3</th>\n",
              "      <th>c4</th>\n",
              "      <th>c5</th>\n",
              "      <th>c6</th>\n",
              "      <th>c7</th>\n",
              "      <th>c8</th>\n",
              "      <th>c9</th>\n",
              "      <th>...</th>\n",
              "      <th>c190</th>\n",
              "      <th>c191</th>\n",
              "      <th>c192</th>\n",
              "      <th>c193</th>\n",
              "      <th>c194</th>\n",
              "      <th>c195</th>\n",
              "      <th>c196</th>\n",
              "      <th>c197</th>\n",
              "      <th>c198</th>\n",
              "      <th>c199</th>\n",
              "    </tr>\n",
              "  </thead>\n",
              "  <tbody>\n",
              "    <tr>\n",
              "      <th>0</th>\n",
              "      <td>0.022046</td>\n",
              "      <td>0.017405</td>\n",
              "      <td>0.010760</td>\n",
              "      <td>0.001513</td>\n",
              "      <td>-0.007137</td>\n",
              "      <td>-0.014390</td>\n",
              "      <td>-0.019444</td>\n",
              "      <td>-0.022701</td>\n",
              "      <td>-0.023760</td>\n",
              "      <td>-0.025621</td>\n",
              "      <td>...</td>\n",
              "      <td>-0.213495</td>\n",
              "      <td>-0.198750</td>\n",
              "      <td>-0.186799</td>\n",
              "      <td>-0.176441</td>\n",
              "      <td>-0.166878</td>\n",
              "      <td>-0.158109</td>\n",
              "      <td>-0.146933</td>\n",
              "      <td>-0.134152</td>\n",
              "      <td>-0.121165</td>\n",
              "      <td>-0.109772</td>\n",
              "    </tr>\n",
              "    <tr>\n",
              "      <th>1</th>\n",
              "      <td>-0.099643</td>\n",
              "      <td>-0.096753</td>\n",
              "      <td>-0.095858</td>\n",
              "      <td>-0.097558</td>\n",
              "      <td>-0.104053</td>\n",
              "      <td>-0.112743</td>\n",
              "      <td>-0.122429</td>\n",
              "      <td>-0.131110</td>\n",
              "      <td>-0.136586</td>\n",
              "      <td>-0.138057</td>\n",
              "      <td>...</td>\n",
              "      <td>-0.162969</td>\n",
              "      <td>-0.143016</td>\n",
              "      <td>-0.124065</td>\n",
              "      <td>-0.106114</td>\n",
              "      <td>-0.092165</td>\n",
              "      <td>-0.080216</td>\n",
              "      <td>-0.071068</td>\n",
              "      <td>-0.062921</td>\n",
              "      <td>-0.056575</td>\n",
              "      <td>-0.049030</td>\n",
              "    </tr>\n",
              "    <tr>\n",
              "      <th>2</th>\n",
              "      <td>-0.059251</td>\n",
              "      <td>-0.060124</td>\n",
              "      <td>-0.057798</td>\n",
              "      <td>-0.054673</td>\n",
              "      <td>-0.051749</td>\n",
              "      <td>-0.048826</td>\n",
              "      <td>-0.049305</td>\n",
              "      <td>-0.055384</td>\n",
              "      <td>-0.064865</td>\n",
              "      <td>-0.075147</td>\n",
              "      <td>...</td>\n",
              "      <td>-0.185259</td>\n",
              "      <td>-0.173037</td>\n",
              "      <td>-0.160016</td>\n",
              "      <td>-0.145398</td>\n",
              "      <td>-0.132182</td>\n",
              "      <td>-0.119968</td>\n",
              "      <td>-0.109757</td>\n",
              "      <td>-0.103147</td>\n",
              "      <td>-0.099740</td>\n",
              "      <td>-0.096134</td>\n",
              "    </tr>\n",
              "    <tr>\n",
              "      <th>3</th>\n",
              "      <td>-0.086089</td>\n",
              "      <td>-0.087316</td>\n",
              "      <td>-0.090945</td>\n",
              "      <td>-0.094777</td>\n",
              "      <td>-0.099811</td>\n",
              "      <td>-0.103447</td>\n",
              "      <td>-0.106085</td>\n",
              "      <td>-0.107526</td>\n",
              "      <td>-0.108768</td>\n",
              "      <td>-0.109413</td>\n",
              "      <td>...</td>\n",
              "      <td>-0.183298</td>\n",
              "      <td>-0.168998</td>\n",
              "      <td>-0.152698</td>\n",
              "      <td>-0.134198</td>\n",
              "      <td>-0.115898</td>\n",
              "      <td>-0.100398</td>\n",
              "      <td>-0.088898</td>\n",
              "      <td>-0.079198</td>\n",
              "      <td>-0.071098</td>\n",
              "      <td>-0.064598</td>\n",
              "    </tr>\n",
              "    <tr>\n",
              "      <th>4</th>\n",
              "      <td>-0.082967</td>\n",
              "      <td>-0.085662</td>\n",
              "      <td>-0.087957</td>\n",
              "      <td>-0.089651</td>\n",
              "      <td>-0.092145</td>\n",
              "      <td>-0.094438</td>\n",
              "      <td>-0.097330</td>\n",
              "      <td>-0.100822</td>\n",
              "      <td>-0.105714</td>\n",
              "      <td>-0.110404</td>\n",
              "      <td>...</td>\n",
              "      <td>-0.166520</td>\n",
              "      <td>-0.145839</td>\n",
              "      <td>-0.122554</td>\n",
              "      <td>-0.100068</td>\n",
              "      <td>-0.079179</td>\n",
              "      <td>-0.059488</td>\n",
              "      <td>-0.041994</td>\n",
              "      <td>-0.029698</td>\n",
              "      <td>-0.020599</td>\n",
              "      <td>-0.015298</td>\n",
              "    </tr>\n",
              "    <tr>\n",
              "      <th>...</th>\n",
              "      <td>...</td>\n",
              "      <td>...</td>\n",
              "      <td>...</td>\n",
              "      <td>...</td>\n",
              "      <td>...</td>\n",
              "      <td>...</td>\n",
              "      <td>...</td>\n",
              "      <td>...</td>\n",
              "      <td>...</td>\n",
              "      <td>...</td>\n",
              "      <td>...</td>\n",
              "      <td>...</td>\n",
              "      <td>...</td>\n",
              "      <td>...</td>\n",
              "      <td>...</td>\n",
              "      <td>...</td>\n",
              "      <td>...</td>\n",
              "      <td>...</td>\n",
              "      <td>...</td>\n",
              "      <td>...</td>\n",
              "      <td>...</td>\n",
              "    </tr>\n",
              "    <tr>\n",
              "      <th>16878</th>\n",
              "      <td>0.000000</td>\n",
              "      <td>0.000000</td>\n",
              "      <td>0.000000</td>\n",
              "      <td>0.000000</td>\n",
              "      <td>0.000000</td>\n",
              "      <td>0.000000</td>\n",
              "      <td>0.000000</td>\n",
              "      <td>0.000000</td>\n",
              "      <td>0.000000</td>\n",
              "      <td>0.000000</td>\n",
              "      <td>...</td>\n",
              "      <td>0.000000</td>\n",
              "      <td>0.000000</td>\n",
              "      <td>0.000000</td>\n",
              "      <td>0.000000</td>\n",
              "      <td>0.000000</td>\n",
              "      <td>0.000000</td>\n",
              "      <td>0.000000</td>\n",
              "      <td>0.000000</td>\n",
              "      <td>0.000000</td>\n",
              "      <td>0.000000</td>\n",
              "    </tr>\n",
              "    <tr>\n",
              "      <th>16879</th>\n",
              "      <td>0.000000</td>\n",
              "      <td>0.000000</td>\n",
              "      <td>0.000000</td>\n",
              "      <td>0.000000</td>\n",
              "      <td>0.000000</td>\n",
              "      <td>0.000000</td>\n",
              "      <td>0.000000</td>\n",
              "      <td>0.000000</td>\n",
              "      <td>0.000000</td>\n",
              "      <td>0.000000</td>\n",
              "      <td>...</td>\n",
              "      <td>0.000000</td>\n",
              "      <td>0.000000</td>\n",
              "      <td>0.000000</td>\n",
              "      <td>0.000000</td>\n",
              "      <td>0.000000</td>\n",
              "      <td>0.000000</td>\n",
              "      <td>0.000000</td>\n",
              "      <td>0.000000</td>\n",
              "      <td>0.000000</td>\n",
              "      <td>0.000000</td>\n",
              "    </tr>\n",
              "    <tr>\n",
              "      <th>16880</th>\n",
              "      <td>0.000000</td>\n",
              "      <td>0.000000</td>\n",
              "      <td>0.000000</td>\n",
              "      <td>0.000000</td>\n",
              "      <td>0.000000</td>\n",
              "      <td>0.000000</td>\n",
              "      <td>0.000000</td>\n",
              "      <td>0.000000</td>\n",
              "      <td>0.000000</td>\n",
              "      <td>0.000000</td>\n",
              "      <td>...</td>\n",
              "      <td>0.000000</td>\n",
              "      <td>0.000000</td>\n",
              "      <td>0.000000</td>\n",
              "      <td>0.000000</td>\n",
              "      <td>0.000000</td>\n",
              "      <td>0.000000</td>\n",
              "      <td>0.000000</td>\n",
              "      <td>0.000000</td>\n",
              "      <td>0.000000</td>\n",
              "      <td>0.000000</td>\n",
              "    </tr>\n",
              "    <tr>\n",
              "      <th>16881</th>\n",
              "      <td>0.000000</td>\n",
              "      <td>0.000000</td>\n",
              "      <td>0.000000</td>\n",
              "      <td>0.000000</td>\n",
              "      <td>0.000000</td>\n",
              "      <td>0.000000</td>\n",
              "      <td>0.000000</td>\n",
              "      <td>0.000000</td>\n",
              "      <td>0.000000</td>\n",
              "      <td>0.000000</td>\n",
              "      <td>...</td>\n",
              "      <td>0.000000</td>\n",
              "      <td>0.000000</td>\n",
              "      <td>0.000000</td>\n",
              "      <td>0.000000</td>\n",
              "      <td>0.000000</td>\n",
              "      <td>0.000000</td>\n",
              "      <td>0.000000</td>\n",
              "      <td>0.000000</td>\n",
              "      <td>0.000000</td>\n",
              "      <td>0.000000</td>\n",
              "    </tr>\n",
              "    <tr>\n",
              "      <th>16882</th>\n",
              "      <td>0.000000</td>\n",
              "      <td>0.000000</td>\n",
              "      <td>0.000000</td>\n",
              "      <td>0.000000</td>\n",
              "      <td>0.000000</td>\n",
              "      <td>0.000000</td>\n",
              "      <td>0.000000</td>\n",
              "      <td>0.000000</td>\n",
              "      <td>0.000000</td>\n",
              "      <td>0.000000</td>\n",
              "      <td>...</td>\n",
              "      <td>0.000000</td>\n",
              "      <td>0.000000</td>\n",
              "      <td>0.000000</td>\n",
              "      <td>0.000000</td>\n",
              "      <td>0.000000</td>\n",
              "      <td>0.000000</td>\n",
              "      <td>0.000000</td>\n",
              "      <td>0.000000</td>\n",
              "      <td>0.000000</td>\n",
              "      <td>0.000000</td>\n",
              "    </tr>\n",
              "  </tbody>\n",
              "</table>\n",
              "<p>16883 rows × 200 columns</p>\n",
              "</div>\n",
              "      <button class=\"colab-df-convert\" onclick=\"convertToInteractive('df-a24f7cc8-0437-4f06-abbd-c96aca601dd7')\"\n",
              "              title=\"Convert this dataframe to an interactive table.\"\n",
              "              style=\"display:none;\">\n",
              "        \n",
              "  <svg xmlns=\"http://www.w3.org/2000/svg\" height=\"24px\"viewBox=\"0 0 24 24\"\n",
              "       width=\"24px\">\n",
              "    <path d=\"M0 0h24v24H0V0z\" fill=\"none\"/>\n",
              "    <path d=\"M18.56 5.44l.94 2.06.94-2.06 2.06-.94-2.06-.94-.94-2.06-.94 2.06-2.06.94zm-11 1L8.5 8.5l.94-2.06 2.06-.94-2.06-.94L8.5 2.5l-.94 2.06-2.06.94zm10 10l.94 2.06.94-2.06 2.06-.94-2.06-.94-.94-2.06-.94 2.06-2.06.94z\"/><path d=\"M17.41 7.96l-1.37-1.37c-.4-.4-.92-.59-1.43-.59-.52 0-1.04.2-1.43.59L10.3 9.45l-7.72 7.72c-.78.78-.78 2.05 0 2.83L4 21.41c.39.39.9.59 1.41.59.51 0 1.02-.2 1.41-.59l7.78-7.78 2.81-2.81c.8-.78.8-2.07 0-2.86zM5.41 20L4 18.59l7.72-7.72 1.47 1.35L5.41 20z\"/>\n",
              "  </svg>\n",
              "      </button>\n",
              "      \n",
              "  <style>\n",
              "    .colab-df-container {\n",
              "      display:flex;\n",
              "      flex-wrap:wrap;\n",
              "      gap: 12px;\n",
              "    }\n",
              "\n",
              "    .colab-df-convert {\n",
              "      background-color: #E8F0FE;\n",
              "      border: none;\n",
              "      border-radius: 50%;\n",
              "      cursor: pointer;\n",
              "      display: none;\n",
              "      fill: #1967D2;\n",
              "      height: 32px;\n",
              "      padding: 0 0 0 0;\n",
              "      width: 32px;\n",
              "    }\n",
              "\n",
              "    .colab-df-convert:hover {\n",
              "      background-color: #E2EBFA;\n",
              "      box-shadow: 0px 1px 2px rgba(60, 64, 67, 0.3), 0px 1px 3px 1px rgba(60, 64, 67, 0.15);\n",
              "      fill: #174EA6;\n",
              "    }\n",
              "\n",
              "    [theme=dark] .colab-df-convert {\n",
              "      background-color: #3B4455;\n",
              "      fill: #D2E3FC;\n",
              "    }\n",
              "\n",
              "    [theme=dark] .colab-df-convert:hover {\n",
              "      background-color: #434B5C;\n",
              "      box-shadow: 0px 1px 3px 1px rgba(0, 0, 0, 0.15);\n",
              "      filter: drop-shadow(0px 1px 2px rgba(0, 0, 0, 0.3));\n",
              "      fill: #FFFFFF;\n",
              "    }\n",
              "  </style>\n",
              "\n",
              "      <script>\n",
              "        const buttonEl =\n",
              "          document.querySelector('#df-a24f7cc8-0437-4f06-abbd-c96aca601dd7 button.colab-df-convert');\n",
              "        buttonEl.style.display =\n",
              "          google.colab.kernel.accessAllowed ? 'block' : 'none';\n",
              "\n",
              "        async function convertToInteractive(key) {\n",
              "          const element = document.querySelector('#df-a24f7cc8-0437-4f06-abbd-c96aca601dd7');\n",
              "          const dataTable =\n",
              "            await google.colab.kernel.invokeFunction('convertToInteractive',\n",
              "                                                     [key], {});\n",
              "          if (!dataTable) return;\n",
              "\n",
              "          const docLinkHtml = 'Like what you see? Visit the ' +\n",
              "            '<a target=\"_blank\" href=https://colab.research.google.com/notebooks/data_table.ipynb>data table notebook</a>'\n",
              "            + ' to learn more about interactive tables.';\n",
              "          element.innerHTML = '';\n",
              "          dataTable['output_type'] = 'display_data';\n",
              "          await google.colab.output.renderOutput(dataTable, element);\n",
              "          const docLink = document.createElement('div');\n",
              "          docLink.innerHTML = docLinkHtml;\n",
              "          element.appendChild(docLink);\n",
              "        }\n",
              "      </script>\n",
              "    </div>\n",
              "  </div>\n",
              "  "
            ]
          },
          "metadata": {},
          "execution_count": 66
        }
      ]
    },
    {
      "cell_type": "code",
      "source": [
        "print(\"No. of columns containing null values\")\n",
        "print(len(X.columns[X.isna().any()]))"
      ],
      "metadata": {
        "colab": {
          "base_uri": "https://localhost:8080/"
        },
        "id": "78Dk9ra920Sv",
        "outputId": "6c3d3a9f-2b2f-4e90-d2fb-034358e5f478"
      },
      "execution_count": null,
      "outputs": [
        {
          "output_type": "stream",
          "name": "stdout",
          "text": [
            "No. of columns containing null values\n",
            "0\n"
          ]
        }
      ]
    },
    {
      "cell_type": "code",
      "source": [
        "# Check the data\n",
        "print(X.isnull().any().describe)\n",
        "print(X.isnull().sum())"
      ],
      "metadata": {
        "colab": {
          "base_uri": "https://localhost:8080/"
        },
        "id": "lpho0j7t_NL3",
        "outputId": "204d4daf-3fe1-4c72-fb7d-187f4ba10e9c"
      },
      "execution_count": null,
      "outputs": [
        {
          "output_type": "stream",
          "name": "stdout",
          "text": [
            "<bound method NDFrame.describe of c0      False\n",
            "c1      False\n",
            "c2      False\n",
            "c3      False\n",
            "c4      False\n",
            "        ...  \n",
            "c195    False\n",
            "c196    False\n",
            "c197    False\n",
            "c198    False\n",
            "c199    False\n",
            "Length: 200, dtype: bool>\n",
            "c0      0\n",
            "c1      0\n",
            "c2      0\n",
            "c3      0\n",
            "c4      0\n",
            "       ..\n",
            "c195    0\n",
            "c196    0\n",
            "c197    0\n",
            "c198    0\n",
            "c199    0\n",
            "Length: 200, dtype: int64\n"
          ]
        }
      ]
    },
    {
      "cell_type": "code",
      "source": [
        "X_train, X_test, Y_train, Y_test = train_test_split(X, y,test_size=0.3,random_state=2)\n",
        "print(\"\\nX_train:\\n\")\n",
        "print(X_train.head())\n",
        "print(X_train.shape)\n",
        "print(\"\\nX_test:\\n\")\n",
        "print(X_test.head())\n",
        "print(X_test.shape)\n"
      ],
      "metadata": {
        "colab": {
          "base_uri": "https://localhost:8080/"
        },
        "id": "5XEaZuqS_NId",
        "outputId": "4045c6f3-63ec-4b93-a837-78f3168f9316"
      },
      "execution_count": null,
      "outputs": [
        {
          "output_type": "stream",
          "name": "stdout",
          "text": [
            "\n",
            "X_train:\n",
            "\n",
            "        c0   c1   c2   c3   c4   c5        c6        c7        c8        c9  \\\n",
            "3060   0.0  0.0  0.0  0.0  0.0  0.0  0.000000  0.000000  0.000000  0.000000   \n",
            "16480  0.0  0.0  0.0  0.0  0.0  0.0  0.000000  0.000000  0.000000  0.000000   \n",
            "14784  0.0  0.0  0.0  0.0  0.0  0.0 -0.304309 -0.300177 -0.295465 -0.289751   \n",
            "8083   0.0  0.0  0.0  0.0  0.0  0.0  0.000000  0.000000  0.000000  0.000000   \n",
            "14944  0.0  0.0  0.0  0.0  0.0  0.0  0.000000  0.000000  0.000000  0.000000   \n",
            "\n",
            "       ...      c190      c191      c192      c193      c194      c195  \\\n",
            "3060   ...  0.000000  0.000000  0.000000  0.000000  0.000000  0.000000   \n",
            "16480  ...  0.000000  0.000000  0.000000  0.000000  0.000000  0.000000   \n",
            "14784  ... -0.296548 -0.296498 -0.296919 -0.296418 -0.294216 -0.289151   \n",
            "8083   ...  0.000000  0.000000  0.000000  0.000000  0.000000  0.000000   \n",
            "14944  ...  0.000000  0.000000  0.000000  0.000000  0.000000  0.000000   \n",
            "\n",
            "           c196  c197  c198  c199  \n",
            "3060   0.000000   0.0   0.0   0.0  \n",
            "16480  0.000000   0.0   0.0   0.0  \n",
            "14784 -0.281169   0.0   0.0   0.0  \n",
            "8083   0.000000   0.0   0.0   0.0  \n",
            "14944  0.000000   0.0   0.0   0.0  \n",
            "\n",
            "[5 rows x 200 columns]\n",
            "(11818, 200)\n",
            "\n",
            "X_test:\n",
            "\n",
            "        c0   c1   c2   c3   c4   c5   c6   c7      c8        c9  ...  \\\n",
            "8285   0.0  0.0  0.0  0.0  0.0  0.0  0.0  0.0  0.0000  0.000000  ...   \n",
            "10603  0.0  0.0  0.0  0.0  0.0  0.0  0.0  0.0  0.0000  0.000000  ...   \n",
            "3536   0.0  0.0  0.0  0.0  0.0  0.0  0.0  0.0 -0.0786 -0.072879  ...   \n",
            "5689   0.0  0.0  0.0  0.0  0.0  0.0  0.0  0.0  0.0000  0.000000  ...   \n",
            "1803   0.0  0.0  0.0  0.0  0.0  0.0  0.0  0.0  0.0000  0.000000  ...   \n",
            "\n",
            "           c190      c191      c192      c193     c194  c195  c196  c197  \\\n",
            "8285   0.000000  0.000000  0.000000  0.000000  0.00000   0.0   0.0   0.0   \n",
            "10603  0.000000  0.000000  0.000000  0.000000  0.00000   0.0   0.0   0.0   \n",
            "3536   0.002195  0.004736  0.008079  0.010424  0.01257   0.0   0.0   0.0   \n",
            "5689   0.000000  0.000000  0.000000  0.000000  0.00000   0.0   0.0   0.0   \n",
            "1803   0.000000  0.000000  0.000000  0.000000  0.00000   0.0   0.0   0.0   \n",
            "\n",
            "       c198  c199  \n",
            "8285    0.0   0.0  \n",
            "10603   0.0   0.0  \n",
            "3536    0.0   0.0  \n",
            "5689    0.0   0.0  \n",
            "1803    0.0   0.0  \n",
            "\n",
            "[5 rows x 200 columns]\n",
            "(5065, 200)\n"
          ]
        }
      ]
    },
    {
      "cell_type": "code",
      "source": [
        "X_test.shape"
      ],
      "metadata": {
        "colab": {
          "base_uri": "https://localhost:8080/"
        },
        "id": "utVzzYun_R3T",
        "outputId": "cd0970a5-90e0-4bc5-d1be-83ab43c5f605"
      },
      "execution_count": null,
      "outputs": [
        {
          "output_type": "execute_result",
          "data": {
            "text/plain": [
              "(5065, 200)"
            ]
          },
          "metadata": {},
          "execution_count": 70
        }
      ]
    },
    {
      "cell_type": "code",
      "source": [
        "X_train.shape\n"
      ],
      "metadata": {
        "colab": {
          "base_uri": "https://localhost:8080/"
        },
        "id": "L91JJpgD_8EL",
        "outputId": "e348c2c6-d4d3-401d-9aef-3f2fb9d53e1b"
      },
      "execution_count": null,
      "outputs": [
        {
          "output_type": "execute_result",
          "data": {
            "text/plain": [
              "(11818, 200)"
            ]
          },
          "metadata": {},
          "execution_count": 71
        }
      ]
    },
    {
      "cell_type": "code",
      "source": [
        "# Set the random seed\n",
        "random_seed = 2\n"
      ],
      "metadata": {
        "id": "tiSf5DYs_8A_"
      },
      "execution_count": null,
      "outputs": []
    },
    {
      "cell_type": "code",
      "source": [
        "# Reshape image in 3 dimensions \n",
        "X_train = X_train.values.reshape(-1,200,1)\n",
        "X_test = X_test.values.reshape(-1,200,1)\n"
      ],
      "metadata": {
        "id": "I_KCncGX_74-"
      },
      "execution_count": null,
      "outputs": []
    },
    {
      "cell_type": "code",
      "source": [
        "X_train.shape"
      ],
      "metadata": {
        "colab": {
          "base_uri": "https://localhost:8080/"
        },
        "id": "kIZyLpxeACOn",
        "outputId": "ff3d35e6-a362-487b-a3a9-6d1ceadaf923"
      },
      "execution_count": null,
      "outputs": [
        {
          "output_type": "execute_result",
          "data": {
            "text/plain": [
              "(11818, 200, 1)"
            ]
          },
          "metadata": {},
          "execution_count": 74
        }
      ]
    },
    {
      "cell_type": "code",
      "source": [
        "# Set the random seed\n",
        "random_seed = 2\n"
      ],
      "metadata": {
        "id": "8t21Bp5ZACK-"
      },
      "execution_count": null,
      "outputs": []
    },
    {
      "cell_type": "code",
      "source": [
        "# Encode labels to one hot vectors (ex : 2 -> [0,0,1,0,0,0,0,0,0,0])\n",
        "Y_train = to_categorical(Y_train, num_classes = 2)"
      ],
      "metadata": {
        "id": "UYe8LvEr_Rz5"
      },
      "execution_count": null,
      "outputs": []
    },
    {
      "cell_type": "code",
      "source": [
        "Y_train\n",
        "Y_train.shape"
      ],
      "metadata": {
        "colab": {
          "base_uri": "https://localhost:8080/"
        },
        "id": "QJKk4i51Mvpb",
        "outputId": "21b06bec-0a29-4ed6-a180-a3461db259ec"
      },
      "execution_count": null,
      "outputs": [
        {
          "output_type": "execute_result",
          "data": {
            "text/plain": [
              "(11818, 2)"
            ]
          },
          "metadata": {},
          "execution_count": 77
        }
      ]
    },
    {
      "cell_type": "code",
      "source": [
        "# Encode labels to one hot vectors (ex : 2 -> [0,0,1,0,0,0,0,0,0,0])\n",
        "Y_test = to_categorical(Y_test, num_classes = 2)"
      ],
      "metadata": {
        "id": "GnZAbM58AOnf"
      },
      "execution_count": null,
      "outputs": []
    },
    {
      "cell_type": "code",
      "source": [
        "Y_test.shape"
      ],
      "metadata": {
        "colab": {
          "base_uri": "https://localhost:8080/"
        },
        "id": "V8TzW-_VMnEf",
        "outputId": "b6b864d6-d917-4d2b-93b9-e74723638e85"
      },
      "execution_count": null,
      "outputs": [
        {
          "output_type": "execute_result",
          "data": {
            "text/plain": [
              "(5065, 2)"
            ]
          },
          "metadata": {},
          "execution_count": 79
        }
      ]
    },
    {
      "cell_type": "markdown",
      "source": [
        "CNN Modelling and training of dataset"
      ],
      "metadata": {
        "id": "bUe54Rla55NS"
      }
    },
    {
      "cell_type": "code",
      "source": [
        "# Set the CNN model \n",
        "\n",
        "# my CNN architechture is In -> [[Conv1D]*2 -> MaxPool1D -> Dropout]*2 -> Flatten -> Dense -> Dropout -> Out\n",
        "# Instanciate an empty model\n",
        "model = Sequential()\n",
        "\n",
        "model.add(Conv1D(filters = 3, kernel_size = 3, strides = 1,padding='same',activation='relu',input_shape = (200,1)))\n",
        "model.add(MaxPool1D(pool_size=2, strides=2))\n",
        "\n",
        "model.add(Conv1D(filters = 5, kernel_size = 3, strides = 1,padding='same',activation='relu'))\n",
        "model.add(MaxPool1D(pool_size=2, strides=2))\n",
        "\n",
        "model.add(Conv1D(filters = 10, kernel_size = 3, strides = 1,padding='same',activation='relu'))\n",
        "model.add(MaxPool1D(pool_size=2, strides=2))\n",
        "\n",
        "model.add(Conv1D(filters = 16, kernel_size = 3, strides = 1,padding='same',activation='relu'))\n",
        "model.add(MaxPool1D(pool_size=2, strides=2))\n",
        "\n",
        "model.add(Conv1D(filters = 20, kernel_size = 3, strides = 1,padding='same',activation='relu'))\n",
        "model.add(MaxPool1D(pool_size=2, strides=2))\n",
        "\n",
        "model.add(Flatten())\n",
        "model.add(Dense(40))\n",
        "model.add(Dense(20))\n",
        "#adding Softmax to get the output\n",
        "model.add(Dense(2, activation = \"softmax\"))\n",
        "\n",
        "model.summary()\n"
      ],
      "metadata": {
        "colab": {
          "base_uri": "https://localhost:8080/"
        },
        "id": "IVqwBoid6I-9",
        "outputId": "f467a6af-2230-4373-aefa-14468f112e1e"
      },
      "execution_count": null,
      "outputs": [
        {
          "output_type": "stream",
          "name": "stdout",
          "text": [
            "Model: \"sequential_4\"\n",
            "_________________________________________________________________\n",
            " Layer (type)                Output Shape              Param #   \n",
            "=================================================================\n",
            " conv1d_5 (Conv1D)           (None, 200, 3)            12        \n",
            "                                                                 \n",
            " max_pooling1d_5 (MaxPooling  (None, 100, 3)           0         \n",
            " 1D)                                                             \n",
            "                                                                 \n",
            " conv1d_6 (Conv1D)           (None, 100, 5)            50        \n",
            "                                                                 \n",
            " max_pooling1d_6 (MaxPooling  (None, 50, 5)            0         \n",
            " 1D)                                                             \n",
            "                                                                 \n",
            " conv1d_7 (Conv1D)           (None, 50, 10)            160       \n",
            "                                                                 \n",
            " max_pooling1d_7 (MaxPooling  (None, 25, 10)           0         \n",
            " 1D)                                                             \n",
            "                                                                 \n",
            " conv1d_8 (Conv1D)           (None, 25, 16)            496       \n",
            "                                                                 \n",
            " max_pooling1d_8 (MaxPooling  (None, 12, 16)           0         \n",
            " 1D)                                                             \n",
            "                                                                 \n",
            " conv1d_9 (Conv1D)           (None, 12, 20)            980       \n",
            "                                                                 \n",
            " max_pooling1d_9 (MaxPooling  (None, 6, 20)            0         \n",
            " 1D)                                                             \n",
            "                                                                 \n",
            " flatten_1 (Flatten)         (None, 120)               0         \n",
            "                                                                 \n",
            " dense_16 (Dense)            (None, 40)                4840      \n",
            "                                                                 \n",
            " dense_17 (Dense)            (None, 20)                820       \n",
            "                                                                 \n",
            " dense_18 (Dense)            (None, 2)                 42        \n",
            "                                                                 \n",
            "=================================================================\n",
            "Total params: 7,400\n",
            "Trainable params: 7,400\n",
            "Non-trainable params: 0\n",
            "_________________________________________________________________\n"
          ]
        }
      ]
    },
    {
      "cell_type": "code",
      "source": [
        "# Define the optimizer\n",
        "optimizer = RMSprop(lr=0.01, rho=0.8, epsilon=1e-10, decay=0.1)\n",
        "\n",
        "# Set a learning rate annealer\n",
        "learning_rate_reduction = ReduceLROnPlateau(monitor='val_acc',\n",
        "                                            patience=3, verbose=0, factor=0.5,\n",
        "                                            min_lr=0.00001)\n",
        "\n",
        "epochs = 20\n",
        "batch_size = 100\n",
        "\n",
        "# Compile the model\n",
        "model.compile(optimizer = optimizer , loss = \"categorical_crossentropy\", metrics=[\"accuracy\"])"
      ],
      "metadata": {
        "colab": {
          "base_uri": "https://localhost:8080/"
        },
        "id": "w5fKjawI6I7n",
        "outputId": "e9f72877-1549-422a-b178-ff05455eae7c"
      },
      "execution_count": null,
      "outputs": [
        {
          "output_type": "stream",
          "name": "stderr",
          "text": [
            "/usr/local/lib/python3.7/dist-packages/keras/optimizer_v2/rmsprop.py:130: UserWarning: The `lr` argument is deprecated, use `learning_rate` instead.\n",
            "  super(RMSprop, self).__init__(name, **kwargs)\n"
          ]
        }
      ]
    },
    {
      "cell_type": "code",
      "source": [
        "#fitting the modell\n",
        "history=model.fit(X_train, Y_train, batch_size = batch_size, epochs = epochs, \n",
        "         validation_data = (X_test, Y_test), verbose = 0)"
      ],
      "metadata": {
        "id": "aWCPHyx-6I4O"
      },
      "execution_count": null,
      "outputs": []
    },
    {
      "cell_type": "code",
      "source": [
        "history.history.keys()"
      ],
      "metadata": {
        "colab": {
          "base_uri": "https://localhost:8080/"
        },
        "id": "dbUANMszbiV4",
        "outputId": "bc91f52c-befc-4274-afab-e57dad0f8657"
      },
      "execution_count": null,
      "outputs": [
        {
          "output_type": "execute_result",
          "data": {
            "text/plain": [
              "dict_keys(['loss', 'accuracy', 'val_loss', 'val_accuracy'])"
            ]
          },
          "metadata": {},
          "execution_count": 83
        }
      ]
    },
    {
      "cell_type": "code",
      "source": [
        "history.history['val_accuracy']"
      ],
      "metadata": {
        "colab": {
          "base_uri": "https://localhost:8080/"
        },
        "id": "2Vn2iScR6I0y",
        "outputId": "fca812a2-0ae1-4b56-b380-d766c1b8a453"
      },
      "execution_count": null,
      "outputs": [
        {
          "output_type": "execute_result",
          "data": {
            "text/plain": [
              "[0.9936821460723877,\n",
              " 0.9948667287826538,\n",
              " 0.9950641393661499,\n",
              " 0.9948667287826538,\n",
              " 0.9952616095542908,\n",
              " 0.9952616095542908,\n",
              " 0.9956564903259277,\n",
              " 0.9962487816810608,\n",
              " 0.9954590201377869,\n",
              " 0.9956564903259277,\n",
              " 0.9956564903259277,\n",
              " 0.9956564903259277,\n",
              " 0.9956564903259277,\n",
              " 0.9956564903259277,\n",
              " 0.9958539009094238,\n",
              " 0.9958539009094238,\n",
              " 0.9958539009094238,\n",
              " 0.9958539009094238,\n",
              " 0.9960513114929199,\n",
              " 0.9958539009094238]"
            ]
          },
          "metadata": {},
          "execution_count": 84
        }
      ]
    },
    {
      "cell_type": "code",
      "source": [
        "# summarize history for loss\n",
        "plt.plot(history.history['loss'])\n",
        "plt.plot(history.history['val_loss'])\n",
        "plt.title('model loss')\n",
        "plt.ylabel('loss')\n",
        "plt.xlabel('epochs')\n",
        "plt.legend(['train', 'test'], loc='upper right')\n",
        "plt.show()"
      ],
      "metadata": {
        "colab": {
          "base_uri": "https://localhost:8080/",
          "height": 295
        },
        "id": "3h0if8rHZ6Fy",
        "outputId": "1c559254-5d5b-41ed-a32e-5a14bfa257a4"
      },
      "execution_count": null,
      "outputs": [
        {
          "output_type": "display_data",
          "data": {
            "text/plain": [
              "<Figure size 432x288 with 1 Axes>"
            ],
            "image/png": "[encoded data removed]"
          },
          "metadata": {
            "needs_background": "light"
          }
        }
      ]
    },
    {
      "cell_type": "code",
      "source": [
        "# summarize history for accuracy\n",
        "plt.plot(history.history['accuracy'])\n",
        "plt.plot(history.history['val_accuracy'])\n",
        "plt.title('model accuracy')\n",
        "plt.ylabel('accuracy')\n",
        "plt.xlabel('epochs')\n",
        "plt.legend(['train', 'test'], loc='lower right')\n",
        "plt.show()"
      ],
      "metadata": {
        "colab": {
          "base_uri": "https://localhost:8080/",
          "height": 295
        },
        "id": "uayhb4YDZ66W",
        "outputId": "d3d199ce-6a4e-4477-f907-93d913baf393"
      },
      "execution_count": null,
      "outputs": [
        {
          "output_type": "display_data",
          "data": {
            "text/plain": [
              "<Figure size 432x288 with 1 Axes>"
            ],
            "image/png": "[encoded data removed]"
          },
          "metadata": {
            "needs_background": "light"
          }
        }
      ]
    },
    {
      "cell_type": "code",
      "source": [
        "\n",
        "score=model.evaluate(X_test, Y_test)\n",
        "\n",
        "print('Test Loss:', score[0])\n",
        "print('Test accuracy:', score[1])"
      ],
      "metadata": {
        "colab": {
          "base_uri": "https://localhost:8080/"
        },
        "id": "PlA7Hhu2Z5oJ",
        "outputId": "ad13a5ef-276e-4d73-fb4b-4d4bf5486797"
      },
      "execution_count": null,
      "outputs": [
        {
          "output_type": "stream",
          "name": "stdout",
          "text": [
            "159/159 [==============================] - 0s 3ms/step - loss: 0.0200 - accuracy: 0.9959\n",
            "Test Loss: 0.019994400441646576\n",
            "Test accuracy: 0.9958539009094238\n"
          ]
        }
      ]
    },
    {
      "cell_type": "code",
      "source": [
        "print(Y_test)"
      ],
      "metadata": {
        "colab": {
          "base_uri": "https://localhost:8080/"
        },
        "id": "3PQY-34tN4pC",
        "outputId": "ec12da25-e9f6-4dbc-e4b1-030f13aa59be"
      },
      "execution_count": null,
      "outputs": [
        {
          "output_type": "stream",
          "name": "stdout",
          "text": [
            "[[0. 1.]\n",
            " [1. 0.]\n",
            " [0. 1.]\n",
            " ...\n",
            " [1. 0.]\n",
            " [0. 1.]\n",
            " [1. 0.]]\n"
          ]
        }
      ]
    },
    {
      "cell_type": "code",
      "source": [
        "print(Y_test[:,[0]])"
      ],
      "metadata": {
        "colab": {
          "base_uri": "https://localhost:8080/"
        },
        "id": "Bhfrc6ozDpws",
        "outputId": "85d0f186-b6e1-41ce-d65f-8fbbae9ce043"
      },
      "execution_count": null,
      "outputs": [
        {
          "output_type": "stream",
          "name": "stdout",
          "text": [
            "[[0.]\n",
            " [1.]\n",
            " [0.]\n",
            " ...\n",
            " [1.]\n",
            " [0.]\n",
            " [1.]]\n"
          ]
        }
      ]
    },
    {
      "cell_type": "code",
      "source": [
        "y_pred=model.predict(X_test)"
      ],
      "metadata": {
        "id": "-Fng6Yc4GAaE"
      },
      "execution_count": null,
      "outputs": []
    },
    {
      "cell_type": "code",
      "source": [
        "y_pred"
      ],
      "metadata": {
        "colab": {
          "base_uri": "https://localhost:8080/"
        },
        "id": "m65blwScN-s0",
        "outputId": "ca8947c9-2e83-49ae-c1f0-148417bcf817"
      },
      "execution_count": null,
      "outputs": [
        {
          "output_type": "execute_result",
          "data": {
            "text/plain": [
              "array([[3.6134716e-06, 9.9999642e-01],\n",
              "       [1.0000000e+00, 1.4800972e-10],\n",
              "       [1.2398147e-04, 9.9987602e-01],\n",
              "       ...,\n",
              "       [9.9999976e-01, 2.4011368e-07],\n",
              "       [4.9897943e-16, 1.0000000e+00],\n",
              "       [1.0000000e+00, 1.0529174e-12]], dtype=float32)"
            ]
          },
          "metadata": {},
          "execution_count": 91
        }
      ]
    },
    {
      "cell_type": "code",
      "source": [
        "y_pred=y_pred[:,[0]]"
      ],
      "metadata": {
        "id": "pSSH8tJuGIKM"
      },
      "execution_count": null,
      "outputs": []
    },
    {
      "cell_type": "code",
      "source": [
        "y_prediction=[]\n",
        "for element in y_pred:\n",
        "  if element > 5.000e-01:\n",
        "    y_prediction.append(1)\n",
        "  else:\n",
        "    y_prediction.append(0)"
      ],
      "metadata": {
        "id": "QQsazoBEGTAT"
      },
      "execution_count": null,
      "outputs": []
    },
    {
      "cell_type": "code",
      "source": [
        "print(classification_report(Y_test[:,[0]],y_prediction))"
      ],
      "metadata": {
        "colab": {
          "base_uri": "https://localhost:8080/"
        },
        "id": "n-foOgpoDh9e",
        "outputId": "20f91565-5995-417c-aa1a-24b275fee120"
      },
      "execution_count": null,
      "outputs": [
        {
          "output_type": "stream",
          "name": "stdout",
          "text": [
            "              precision    recall  f1-score   support\n",
            "\n",
            "         0.0       0.99      1.00      1.00      2500\n",
            "         1.0       1.00      0.99      1.00      2565\n",
            "\n",
            "    accuracy                           1.00      5065\n",
            "   macro avg       1.00      1.00      1.00      5065\n",
            "weighted avg       1.00      1.00      1.00      5065\n",
            "\n"
          ]
        }
      ]
    },
    {
      "cell_type": "markdown",
      "source": [
        "ANN Modelling and training of dataset"
      ],
      "metadata": {
        "id": "nMMPk4S68t2X"
      }
    },
    {
      "cell_type": "code",
      "source": [
        "#initilising the model\n",
        "model=Sequential()\n",
        "\n",
        "#layers\n",
        "model.add(Dense(units=64,kernel_initializer='glorot_uniform',activation='relu',\n",
        "                input_dim=(200))) #input layers\n",
        "#hiddene layers1               \n",
        "model.add(Dense(units=32,kernel_initializer='glorot_uniform',activation='relu')) \n",
        "model.add(Dropout(0.10))\n",
        "\n",
        "#hidden layers2\n",
        "model.add(Dense(units=16,kernel_initializer='glorot_uniform',activation='relu')) \n",
        "model.add(Dropout(0.20))\n",
        "\n",
        "#hidden layers3\n",
        "model.add(Dense(units=8,kernel_initializer='glorot_uniform',activation='relu')) \n",
        "model.add(Dropout(0.40))\n",
        "\n",
        "#hiddene layers4              \n",
        "model.add(Dense(units=4,kernel_initializer='glorot_uniform',activation='relu')) \n",
        "model.add(Dropout(0.50))\n",
        "\n",
        "#output Layer\n",
        "model.add(Dense(units=2,kernel_initializer='glorot_uniform',activation='Softmax'))\n",
        "\n",
        "model.summary()"
      ],
      "metadata": {
        "id": "qlrM8eK164H4",
        "colab": {
          "base_uri": "https://localhost:8080/"
        },
        "outputId": "290a2dc5-441f-4b02-ae57-18118b4e5d2b"
      },
      "execution_count": null,
      "outputs": [
        {
          "output_type": "stream",
          "name": "stdout",
          "text": [
            "Model: \"sequential_5\"\n",
            "_________________________________________________________________\n",
            " Layer (type)                Output Shape              Param #   \n",
            "=================================================================\n",
            " dense_19 (Dense)            (None, 64)                12864     \n",
            "                                                                 \n",
            " dense_20 (Dense)            (None, 32)                2080      \n",
            "                                                                 \n",
            " dropout_7 (Dropout)         (None, 32)                0         \n",
            "                                                                 \n",
            " dense_21 (Dense)            (None, 16)                528       \n",
            "                                                                 \n",
            " dropout_8 (Dropout)         (None, 16)                0         \n",
            "                                                                 \n",
            " dense_22 (Dense)            (None, 8)                 136       \n",
            "                                                                 \n",
            " dropout_9 (Dropout)         (None, 8)                 0         \n",
            "                                                                 \n",
            " dense_23 (Dense)            (None, 4)                 36        \n",
            "                                                                 \n",
            " dropout_10 (Dropout)        (None, 4)                 0         \n",
            "                                                                 \n",
            " dense_24 (Dense)            (None, 2)                 10        \n",
            "                                                                 \n",
            "=================================================================\n",
            "Total params: 15,654\n",
            "Trainable params: 15,654\n",
            "Non-trainable params: 0\n",
            "_________________________________________________________________\n"
          ]
        }
      ]
    },
    {
      "cell_type": "code",
      "source": [
        "#compile the model\n",
        "optimizer = RMSprop(lr=0.01, rho=0.8, epsilon=1e-09, decay=0.1)\n",
        "\n",
        "model.compile(optimizer = optimizer , loss = \"categorical_crossentropy\", metrics=[\"accuracy\"])"
      ],
      "metadata": {
        "id": "NCKQf6zo82MZ",
        "colab": {
          "base_uri": "https://localhost:8080/"
        },
        "outputId": "b9eb8380-9e0b-47f8-b5af-b4faeb645dfb"
      },
      "execution_count": null,
      "outputs": [
        {
          "output_type": "stream",
          "name": "stderr",
          "text": [
            "/usr/local/lib/python3.7/dist-packages/keras/optimizer_v2/rmsprop.py:130: UserWarning: The `lr` argument is deprecated, use `learning_rate` instead.\n",
            "  super(RMSprop, self).__init__(name, **kwargs)\n"
          ]
        }
      ]
    },
    {
      "cell_type": "code",
      "source": [
        "#training of the model\n",
        "epochs=20\n",
        "batch_size=100\n",
        "history_ann=model.fit(X_train, Y_train, batch_size = batch_size, epochs = epochs, \n",
        "         validation_data = (X_test, Y_test), verbose = 0)"
      ],
      "metadata": {
        "id": "Gatxgjn482JQ"
      },
      "execution_count": null,
      "outputs": []
    },
    {
      "cell_type": "code",
      "source": [
        "history_ann.history.keys()"
      ],
      "metadata": {
        "id": "opfQD28q82F5",
        "colab": {
          "base_uri": "https://localhost:8080/"
        },
        "outputId": "92bc2f0c-cb52-4f3b-ab03-6700679a9b61"
      },
      "execution_count": null,
      "outputs": [
        {
          "output_type": "execute_result",
          "data": {
            "text/plain": [
              "dict_keys(['loss', 'accuracy', 'val_loss', 'val_accuracy'])"
            ]
          },
          "metadata": {},
          "execution_count": 99
        }
      ]
    },
    {
      "cell_type": "code",
      "source": [
        "history_ann.history['val_accuracy']"
      ],
      "metadata": {
        "id": "_P96PeB882C1",
        "colab": {
          "base_uri": "https://localhost:8080/"
        },
        "outputId": "c660c9d4-0bf6-45be-910b-75648d4f2853"
      },
      "execution_count": null,
      "outputs": [
        {
          "output_type": "execute_result",
          "data": {
            "text/plain": [
              "[0.9936821460723877,\n",
              " 0.9940770268440247,\n",
              " 0.9942744374275208,\n",
              " 0.9940770268440247,\n",
              " 0.9944718480110168,\n",
              " 0.9942744374275208,\n",
              " 0.9942744374275208,\n",
              " 0.9946693181991577,\n",
              " 0.9948667287826538,\n",
              " 0.9948667287826538,\n",
              " 0.9948667287826538,\n",
              " 0.9948667287826538,\n",
              " 0.9948667287826538,\n",
              " 0.9948667287826538,\n",
              " 0.9948667287826538,\n",
              " 0.9948667287826538,\n",
              " 0.9950641393661499,\n",
              " 0.9948667287826538,\n",
              " 0.9950641393661499,\n",
              " 0.9950641393661499]"
            ]
          },
          "metadata": {},
          "execution_count": 100
        }
      ]
    },
    {
      "cell_type": "code",
      "source": [
        "history_ann.history['accuracy']"
      ],
      "metadata": {
        "id": "mpXD15bg81_W",
        "colab": {
          "base_uri": "https://localhost:8080/"
        },
        "outputId": "2c5d04d5-3b74-4cce-f774-85f488219d12"
      },
      "execution_count": null,
      "outputs": [
        {
          "output_type": "execute_result",
          "data": {
            "text/plain": [
              "[0.8149433135986328,\n",
              " 0.8573362827301025,\n",
              " 0.8721441626548767,\n",
              " 0.8934676051139832,\n",
              " 0.8973599672317505,\n",
              " 0.9057369828224182,\n",
              " 0.9051446914672852,\n",
              " 0.91182941198349,\n",
              " 0.9133524894714355,\n",
              " 0.913690984249115,\n",
              " 0.9185987710952759,\n",
              " 0.9150448441505432,\n",
              " 0.9177525639533997,\n",
              " 0.9170756340026855,\n",
              " 0.9193602800369263,\n",
              " 0.9190218448638916,\n",
              " 0.9190218448638916,\n",
              " 0.9170756340026855,\n",
              " 0.9196141362190247,\n",
              " 0.9186833500862122]"
            ]
          },
          "metadata": {},
          "execution_count": 101
        }
      ]
    },
    {
      "cell_type": "code",
      "source": [
        "# summarize history for loss\n",
        "plt.plot(history_ann.history['loss'])\n",
        "plt.plot(history_ann.history['val_loss'])\n",
        "plt.title('model loss')\n",
        "plt.ylabel('loss')\n",
        "plt.xlabel('epochs')\n",
        "plt.legend(['train', 'test'], loc='upper right')\n",
        "plt.show()"
      ],
      "metadata": {
        "id": "nqrCLH707O8U",
        "colab": {
          "base_uri": "https://localhost:8080/",
          "height": 295
        },
        "outputId": "4eb75609-b593-4ac7-9ef7-4c16af65bfb0"
      },
      "execution_count": null,
      "outputs": [
        {
          "output_type": "display_data",
          "data": {
            "text/plain": [
              "<Figure size 432x288 with 1 Axes>"
            ],
            "image/png": "[encoded data removed]"
          },
          "metadata": {
            "needs_background": "light"
          }
        }
      ]
    },
    {
      "cell_type": "code",
      "source": [
        "# summarize history for accuracy\n",
        "plt.plot(history_ann.history['accuracy'])\n",
        "plt.plot(history_ann.history['val_accuracy'])\n",
        "plt.title('model accuracy')\n",
        "plt.ylabel('accuracy')\n",
        "plt.xlabel('epochs')\n",
        "plt.legend(['train', 'test'], loc='lower right')\n",
        "plt.show()"
      ],
      "metadata": {
        "id": "WD6BWjr97O47",
        "colab": {
          "base_uri": "https://localhost:8080/",
          "height": 295
        },
        "outputId": "1e3aeb14-863b-46a8-8598-1d9f9d19d7bc"
      },
      "execution_count": null,
      "outputs": [
        {
          "output_type": "display_data",
          "data": {
            "text/plain": [
              "<Figure size 432x288 with 1 Axes>"
            ],
            "image/png": "[encoded data removed]"
          },
          "metadata": {
            "needs_background": "light"
          }
        }
      ]
    },
    {
      "cell_type": "code",
      "source": [
        "score=model.evaluate(X_test, Y_test)\n",
        "\n",
        "print('Test Loss:', score[0])\n",
        "print('Test accuracy:', score[1])"
      ],
      "metadata": {
        "id": "gvjc8x117O1o",
        "colab": {
          "base_uri": "https://localhost:8080/"
        },
        "outputId": "bb52f200-4191-447f-dcc4-ab9d2525fb93"
      },
      "execution_count": null,
      "outputs": [
        {
          "output_type": "stream",
          "name": "stdout",
          "text": [
            "159/159 [==============================] - 0s 1ms/step - loss: 0.0338 - accuracy: 0.9951\n",
            "Test Loss: 0.03375447914004326\n",
            "Test accuracy: 0.9950641393661499\n"
          ]
        }
      ]
    },
    {
      "cell_type": "code",
      "source": [
        "print(Y_test)"
      ],
      "metadata": {
        "id": "CqATil_J7Oya",
        "colab": {
          "base_uri": "https://localhost:8080/"
        },
        "outputId": "403d5d13-ead0-4043-e245-06963615f47a"
      },
      "execution_count": null,
      "outputs": [
        {
          "output_type": "stream",
          "name": "stdout",
          "text": [
            "[[0. 1.]\n",
            " [1. 0.]\n",
            " [0. 1.]\n",
            " ...\n",
            " [1. 0.]\n",
            " [0. 1.]\n",
            " [1. 0.]]\n"
          ]
        }
      ]
    },
    {
      "cell_type": "code",
      "source": [
        "y_pred_ann=model.predict(X_test)"
      ],
      "metadata": {
        "id": "UtV1qFrvQQBe"
      },
      "execution_count": null,
      "outputs": []
    },
    {
      "cell_type": "code",
      "source": [
        "y_pred_ann=y_pred_ann[:,[0]]\n",
        "y_pred_ann                     "
      ],
      "metadata": {
        "colab": {
          "base_uri": "https://localhost:8080/"
        },
        "id": "hL1arHFfQP-M",
        "outputId": "4f87f10b-bf03-4881-a88d-c12ac03d2c67"
      },
      "execution_count": null,
      "outputs": [
        {
          "output_type": "execute_result",
          "data": {
            "text/plain": [
              "array([[4.3947474e-04],\n",
              "       [1.0000000e+00],\n",
              "       [2.0516038e-02],\n",
              "       ...,\n",
              "       [1.0000000e+00],\n",
              "       [2.5904556e-06],\n",
              "       [1.0000000e+00]], dtype=float32)"
            ]
          },
          "metadata": {},
          "execution_count": 107
        }
      ]
    },
    {
      "cell_type": "code",
      "source": [
        "y_prediction_ann=[]\n",
        "for element in y_pred:\n",
        "  if element > 5.000e-01:\n",
        "    y_prediction_ann.append(1)\n",
        "  else:\n",
        "    y_prediction_ann.append(0)"
      ],
      "metadata": {
        "id": "pnGv_ATiQw47"
      },
      "execution_count": null,
      "outputs": []
    },
    {
      "cell_type": "code",
      "source": [
        "print(classification_report(Y_test[:,[0]],y_prediction_ann))"
      ],
      "metadata": {
        "colab": {
          "base_uri": "https://localhost:8080/"
        },
        "id": "i1Sa-P0FQ4_J",
        "outputId": "29dc0018-dd73-422d-c189-e788c7db846f"
      },
      "execution_count": null,
      "outputs": [
        {
          "output_type": "stream",
          "name": "stdout",
          "text": [
            "              precision    recall  f1-score   support\n",
            "\n",
            "         0.0       0.99      1.00      1.00      2500\n",
            "         1.0       1.00      0.99      1.00      2565\n",
            "\n",
            "    accuracy                           1.00      5065\n",
            "   macro avg       1.00      1.00      1.00      5065\n",
            "weighted avg       1.00      1.00      1.00      5065\n",
            "\n"
          ]
        }
      ]
    },
    {
      "cell_type": "code",
      "source": [
        "#confusion Matrix\n",
        "# Look at confusion matrix \n",
        "def plot_confusion_matrix(cm, classes, normalize=False, title='Confusion matrix', cmap=plt.cm.Blues):\n",
        "    \"\"\"\n",
        "    This function prints and plots the confusion matrix.\n",
        "    Normalization can be applied by setting `normalize=True`.\n",
        "    \"\"\"\n",
        "    plt.imshow(cm, interpolation='nearest', cmap=cmap)\n",
        "    plt.title(title)\n",
        "    plt.colorbar()\n",
        "    tick_marks = np.arange(len(classes))\n",
        "    plt.xticks(tick_marks, classes, rotation=0)\n",
        "    plt.yticks(tick_marks, classes)\n",
        "\n",
        "    if normalize:\n",
        "        cm = cm.astype('float') / cm.sum(axis=1)[:, np.newaxis]\n",
        "\n",
        "    thresh = cm.max() / 2.\n",
        "    for i, j in itertools.product(range(cm.shape[0]), range(cm.shape[1])):\n",
        "        plt.text(j, i, cm[i, j],\n",
        "                 horizontalalignment=\"center\",\n",
        "                 color=\"white\" if cm[i, j] > thresh else \"black\")\n",
        "\n",
        "    plt.tight_layout()\n",
        "    plt.ylabel('True label')\n",
        "    plt.xlabel('Predicted label')\n",
        "\n",
        "# Predict the values from the validation dataset\n",
        "Y_pred_ann= model.predict(X_test)\n",
        "# Convert predictions classes to one hot vectors \n",
        "Y_pred_classes = np.argmax(Y_pred_ann,axis = 1) \n",
        "# Convert validation observations to one hot vectors\n",
        "Y_true_ann = np.argmax(Y_test,axis = 1) \n",
        "# compute the confusion matrix\n",
        "confusion_mtx = confusion_matrix(Y_true_ann, Y_pred_classes) \n",
        "# plot the confusion matrix\n",
        "plot_confusion_matrix(confusion_mtx, classes = range(2))"
      ],
      "metadata": {
        "colab": {
          "base_uri": "https://localhost:8080/",
          "height": 311
        },
        "id": "gpXoOFlRRDBn",
        "outputId": "65c0a579-fd65-411f-b8e1-b2ee5dd3d608"
      },
      "execution_count": null,
      "outputs": [
        {
          "output_type": "display_data",
          "data": {
            "text/plain": [
              "<Figure size 432x288 with 2 Axes>"
            ],
            "image/png": "[encoded data removed]"
          },
          "metadata": {
            "needs_background": "light"
          }
        }
      ]
    },
    {
      "cell_type": "code",
      "source": [
        ""
      ],
      "metadata": {
        "id": "1nNphpLBVQD4"
      },
      "execution_count": null,
      "outputs": []
    }
  ]
}